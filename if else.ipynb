{
 "cells": [
  {
   "cell_type": "code",
   "execution_count": 1,
   "id": "3b750bb2-bfc6-496b-a671-a2548c402aa9",
   "metadata": {},
   "outputs": [
    {
     "name": "stdin",
     "output_type": "stream",
     "text": [
      "enter eny number 10\n"
     ]
    },
    {
     "name": "stdout",
     "output_type": "stream",
     "text": [
      "even number\n"
     ]
    }
   ],
   "source": [
    "# day 2 \n",
    "# Q1 Write a program that takes an integer input from the user and checks whether the number is odd or\n",
    "#even.\n",
    "a = int(input(\"enter eny number\"))\n",
    "\n",
    "if(a%2==0):\n",
    "    print(\"even number\")\n",
    "elif(a%2==1):\n",
    "    print(\"odd number\")"
   ]
  },
  {
   "cell_type": "code",
   "execution_count": 31,
   "id": "2c5adf1c-767a-493d-ae67-0e83981e8147",
   "metadata": {},
   "outputs": [
    {
     "name": "stdin",
     "output_type": "stream",
     "text": [
      "enter any number 44\n",
      "enter any number 55\n",
      "enter any number 108\n"
     ]
    },
    {
     "name": "stdout",
     "output_type": "stream",
     "text": [
      "c is the largest value\n"
     ]
    }
   ],
   "source": [
    "# Q2 Write a program that takes three numbers as input and prints the largest of the three.\n",
    "\n",
    "a = int(input(\"enter any number\"))\n",
    "b = int(input(\"enter any number\"))\n",
    "c = int(input(\"enter any number\"))\n",
    "\n",
    "if(a>=b and a>=c):\n",
    "    print(\" a is the largest value\")\n",
    "elif(b>=a and b>=c):\n",
    "    print(\"b is the largest value\")\n",
    "else:\n",
    "    print(\"c is the largest value\")"
   ]
  },
  {
   "cell_type": "code",
   "execution_count": 49,
   "id": "8c311425-59a6-4a53-98dd-0ff24ae56a90",
   "metadata": {},
   "outputs": [
    {
     "name": "stdin",
     "output_type": "stream",
     "text": [
      "enter a year 2024\n"
     ]
    },
    {
     "name": "stdout",
     "output_type": "stream",
     "text": [
      "leep year\n"
     ]
    }
   ],
   "source": [
    "#Q3 Write a program to check if a given year is a leap year. A leap year is divisible by 4 but not by 100\n",
    "#unless it is also divisible by 400.\n",
    "\n",
    "year = int(input(\"enter a year\"))\n",
    "\n",
    "if(year % 4==0 and year % 100 != 0) or ( year % 400 ==0):\n",
    "    print(\"leep year\")\n",
    "else:\n",
    "    print(\"not a leap year.\")"
   ]
  },
  {
   "cell_type": "code",
   "execution_count": 51,
   "id": "a7168988-b8cb-4c78-9ea8-9143ebfe3dea",
   "metadata": {},
   "outputs": [],
   "source": [
    "#Q4 Write a program that takes a percentage (integer) as input and prints the corresponding grade based\n",
    "#on the following criteria:\n",
    "#>= 90: Grade A\n",
    "#>= 80: Grade B\n",
    "#>= 70: Grade C\n",
    "#>= 60: Grade D\n",
    "#< 60: Grade F\n"
   ]
  },
  {
   "cell_type": "code",
   "execution_count": 149,
   "id": "6b9ff7df-3ec2-4674-b8ec-baac2a2dee44",
   "metadata": {},
   "outputs": [
    {
     "name": "stdin",
     "output_type": "stream",
     "text": [
      "enter parcentage 44\n"
     ]
    },
    {
     "name": "stdout",
     "output_type": "stream",
     "text": [
      "Grade F\n"
     ]
    }
   ],
   "source": [
    "num = int(input(\"enter parcentage\"))\n",
    "\n",
    "if(num>=90 and num<=100):\n",
    "    print(\"Grade A\")\n",
    "elif(num>=80 and num<90):\n",
    "    print(\"Grade B\")\n",
    "elif(num>=70 and num<80):\n",
    "    print(\"Grade C\")\n",
    "elif(num>=60 and num<70):\n",
    "    print(\"Grade D\")\n",
    "else:\n",
    "    print(\"Grade F\")"
   ]
  },
  {
   "cell_type": "code",
   "execution_count": 181,
   "id": "4992960f-39c9-458e-bede-1af9b4d2c860",
   "metadata": {},
   "outputs": [
    {
     "name": "stdin",
     "output_type": "stream",
     "text": [
      "enter any charcter a\n"
     ]
    },
    {
     "name": "stdout",
     "output_type": "stream",
     "text": [
      "vowel\n"
     ]
    }
   ],
   "source": [
    "#Q5 Write a program that checks if a given letter is a vowel (a, e, i, o, u) or a consonant.\n",
    "a = input(\"enter any charcter\")\n",
    "\n",
    "if(a== 'a' or a == 'e' or a == 'i' or a == 'o' or a == 'u'):\n",
    "    print(\"vowel\")\n",
    "else:\n",
    "    print(\"consonant\")"
   ]
  },
  {
   "cell_type": "code",
   "execution_count": 183,
   "id": "6d47b7ff-0e0c-4b24-83f1-7dc6f76a819b",
   "metadata": {},
   "outputs": [],
   "source": [
    "#Q6 Write a basic calculator program that takes two numbers and an operator (+, -, *, /) as input and\n",
    "#performs the specified operation. Print the result based on the operation."
   ]
  },
  {
   "cell_type": "code",
   "execution_count": 195,
   "id": "baff89f8-764c-46cf-8320-380dec738871",
   "metadata": {},
   "outputs": [
    {
     "name": "stdin",
     "output_type": "stream",
     "text": [
      "enter first number 50\n",
      "enter second number 2\n",
      "enter any op /\n"
     ]
    },
    {
     "name": "stdout",
     "output_type": "stream",
     "text": [
      "25.0\n"
     ]
    }
   ],
   "source": [
    "num1 = float(input(\"enter first number\"))\n",
    "num2 = float(input(\"enter second number\"))\n",
    "op = input(\"enter any op\")\n",
    "\n",
    "if(op=='+'):\n",
    "    result = num1 + num2\n",
    "    print(result)\n",
    "elif(op=='-'):\n",
    "    result = num1 - num2\n",
    "    print(result)\n",
    "elif(op=='*'):\n",
    "    result = num1 * num2\n",
    "    print(result)\n",
    "elif(op=='/'):\n",
    "    result = num1 / num2\n",
    "    print(result)"
   ]
  },
  {
   "cell_type": "code",
   "execution_count": 1,
   "id": "865c4702-cc30-40ad-ac39-d97dbbc0ae15",
   "metadata": {},
   "outputs": [],
   "source": [
    "#Q7 Write a program that takes a number as input and checks whether it is positive, negative, or zero."
   ]
  },
  {
   "cell_type": "code",
   "execution_count": 7,
   "id": "61043a95-033c-49da-83a7-d2808fab4ce6",
   "metadata": {},
   "outputs": [
    {
     "name": "stdin",
     "output_type": "stream",
     "text": [
      "enter any number 0\n"
     ]
    },
    {
     "name": "stdout",
     "output_type": "stream",
     "text": [
      "zero\n"
     ]
    }
   ],
   "source": [
    "num = int(input(\"enter any number\"))\n",
    "\n",
    "if(num>0):\n",
    "    print(\"positive number\")\n",
    "elif(num<0):\n",
    "    print(\"negative number\")\n",
    "else:\n",
    "    print(\"zero\")"
   ]
  },
  {
   "cell_type": "code",
   "execution_count": 9,
   "id": "2417fb32-0481-4a7e-8c18-66e70869f470",
   "metadata": {},
   "outputs": [],
   "source": [
    "#Q8 Write a program that checks if a username and password entered by the user match the pre-set values\n",
    "#username = \"admin\" and password = \"1234\". If both match, print \"Login Successful\", otherwise print\n",
    "#\"Login Failed\"."
   ]
  },
  {
   "cell_type": "code",
   "execution_count": 39,
   "id": "8bed10c7-d4c9-4c59-b112-b528b31d6705",
   "metadata": {},
   "outputs": [
    {
     "name": "stdin",
     "output_type": "stream",
     "text": [
      "enter username admin\n",
      "enter password 1234\n"
     ]
    },
    {
     "name": "stdout",
     "output_type": "stream",
     "text": [
      "Login Successful\n"
     ]
    }
   ],
   "source": [
    "username = input(\"enter username\")\n",
    "password = int(input(\"enter password\"))\n",
    "\n",
    "if(username ==\"admin\" and password == 1234):\n",
    "    print(\"Login Successful\")\n",
    "else:\n",
    "    print(\"login failed\")"
   ]
  },
  {
   "cell_type": "code",
   "execution_count": 41,
   "id": "97ed909a-4541-477c-ac32-dc9c5daa2c59",
   "metadata": {},
   "outputs": [],
   "source": [
    "#Q9  Write a program that takes three sides of a triangle as input and checks if those sides form a valid\n",
    "#    triangle. A triangle is valid if the sum of any two sides is greater than the third side.\n",
    "#    Check conditions like a + b > c, b + c > a, and a + c > b."
   ]
  },
  {
   "cell_type": "code",
   "execution_count": 43,
   "id": "539b8fce-69c6-4919-b367-2958a697d67f",
   "metadata": {},
   "outputs": [],
   "source": [
    "#Q10 Write a program that calculates the Body Mass Index (BMI) based on user input for weight (in\n",
    "#kilograms) and height (in meters). Then categorize the BMI into:\n",
    "\n",
    "#Underweight (BMI < 18.5)\n",
    "#Normal weight (18.5 <= BMI < 24.9)\n",
    "#Overweight (25 <= BMI < 29.9)\n",
    "#Obesity (BMI >= 30)\n",
    "#Use the formula: BMI = weight / (height ** 2)"
   ]
  },
  {
   "cell_type": "code",
   "execution_count": 85,
   "id": "bf1f02c4-eb10-4599-997b-101420a8efda",
   "metadata": {},
   "outputs": [
    {
     "name": "stdin",
     "output_type": "stream",
     "text": [
      "enter body weight 86\n",
      "enter height in meter 1.76\n"
     ]
    },
    {
     "name": "stdout",
     "output_type": "stream",
     "text": [
      "27.763429752066116\n",
      "overweight\n"
     ]
    }
   ],
   "source": [
    "weight = float(input(\"enter body weight\"))\n",
    "height = float(input(\"enter height in meter\"))\n",
    "\n",
    "bmi = weight / height**2\n",
    "print(bmi)\n",
    "\n",
    "if(bmi < 18.5):\n",
    "    print(\"underweight\")\n",
    "elif(18.5 <= bmi < 24.9):\n",
    "    print(\"normal weight\")\n",
    "elif(25 <= bmi < 29.9):\n",
    "    print(\"overweight\")\n",
    "elif(bmi>= 30):\n",
    "    print(\"obesity\")\n",
    "\n",
    "\n",
    "\n",
    "\n"
   ]
  },
  {
   "cell_type": "code",
   "execution_count": 95,
   "id": "8f2131a6-96ef-43ae-8e48-e05f3866b11e",
   "metadata": {},
   "outputs": [],
   "source": [
    "#Q11 Write a program that calculates the discount for a product based on its price:\n",
    "# If price is greater than 1000, discount is 10%\n",
    "# If price is between 500 and 1000, discount is 5%\n",
    "# Otherwise, no discount\n",
    "# Print the final price after applying the discount."
   ]
  },
  {
   "cell_type": "code",
   "execution_count": 147,
   "id": "2a8d259f-c843-4aa2-9039-63046653f6ee",
   "metadata": {},
   "outputs": [
    {
     "name": "stdin",
     "output_type": "stream",
     "text": [
      "enter price 500\n"
     ]
    },
    {
     "name": "stdout",
     "output_type": "stream",
     "text": [
      "50.0\n"
     ]
    }
   ],
   "source": [
    "price = int(input(\"enter price\"))\n",
    "\n",
    "discount = price*10/100\n",
    "print(discount)"
   ]
  },
  {
   "cell_type": "code",
   "execution_count": 112,
   "id": "115afbbd-38c7-4627-924f-89e90122ad83",
   "metadata": {},
   "outputs": [
    {
     "name": "stdin",
     "output_type": "stream",
     "text": [
      "enter price 500\n"
     ]
    },
    {
     "name": "stdout",
     "output_type": "stream",
     "text": [
      "final price after applying the discount= 475.0\n"
     ]
    }
   ],
   "source": [
    "price = float(input(\"enter price\"))\n",
    "\n",
    "\n",
    "if(price>1000):\n",
    "    discount = 0.10\n",
    "    \n",
    "elif(price>=500 and price<=1000):\n",
    "   discount = 0.05\n",
    "else:\n",
    "    print(\"no discount\")\n",
    "\n",
    "final_price = price * (1 - discount)\n",
    "\n",
    "print(\"final price after applying the discount=\",final_price)"
   ]
  },
  {
   "cell_type": "code",
   "execution_count": null,
   "id": "b84cb513-21da-446b-a26c-9478c62dd2a5",
   "metadata": {},
   "outputs": [],
   "source": []
  }
 ],
 "metadata": {
  "kernelspec": {
   "display_name": "Python 3 (ipykernel)",
   "language": "python",
   "name": "python3"
  },
  "language_info": {
   "codemirror_mode": {
    "name": "ipython",
    "version": 3
   },
   "file_extension": ".py",
   "mimetype": "text/x-python",
   "name": "python",
   "nbconvert_exporter": "python",
   "pygments_lexer": "ipython3",
   "version": "3.12.7"
  }
 },
 "nbformat": 4,
 "nbformat_minor": 5
}
