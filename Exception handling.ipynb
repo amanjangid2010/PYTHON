{
 "cells": [
  {
   "cell_type": "code",
   "execution_count": 22,
   "id": "3112ba7f-755c-42d8-a537-5fd789f169d6",
   "metadata": {},
   "outputs": [],
   "source": [
    "# file handling\n",
    "# exception handling"
   ]
  },
  {
   "cell_type": "code",
   "execution_count": 24,
   "id": "a1d961cf-7d19-490e-b71d-d32c8ba9d041",
   "metadata": {},
   "outputs": [],
   "source": [
    "#Exception => unwanted condition , situtation\n",
    "#code => correct output\n"
   ]
  },
  {
   "cell_type": "code",
   "execution_count": 28,
   "id": "dde6a9ef-63fb-425f-9b78-91f84321858b",
   "metadata": {},
   "outputs": [
    {
     "name": "stdout",
     "output_type": "stream",
     "text": [
      "hello\n"
     ]
    },
    {
     "ename": "NameError",
     "evalue": "name 'z' is not defined",
     "output_type": "error",
     "traceback": [
      "\u001b[1;31m---------------------------------------------------------------------------\u001b[0m",
      "\u001b[1;31mNameError\u001b[0m                                 Traceback (most recent call last)",
      "Cell \u001b[1;32mIn[28], line 2\u001b[0m\n\u001b[0;32m      1\u001b[0m \u001b[38;5;28mprint\u001b[39m(\u001b[38;5;124m\"\u001b[39m\u001b[38;5;124mhello\u001b[39m\u001b[38;5;124m\"\u001b[39m)\n\u001b[1;32m----> 2\u001b[0m z\u001b[38;5;241m+\u001b[39m\u001b[38;5;241m10\u001b[39m\n\u001b[0;32m      3\u001b[0m \u001b[38;5;28mprint\u001b[39m(\u001b[38;5;124m\"\u001b[39m\u001b[38;5;124mhey\u001b[39m\u001b[38;5;124m\"\u001b[39m)\n",
      "\u001b[1;31mNameError\u001b[0m: name 'z' is not defined"
     ]
    }
   ],
   "source": [
    "print(\"hello\")\n",
    "z+10\n",
    "print(\"hey\")"
   ]
  },
  {
   "cell_type": "code",
   "execution_count": 30,
   "id": "806b91da-07ab-413b-9ab8-52fab83de805",
   "metadata": {},
   "outputs": [],
   "source": [
    "# try\n",
    "# except"
   ]
  },
  {
   "cell_type": "code",
   "execution_count": 34,
   "id": "8af3b5f1-d6aa-413c-b891-79188b9c0f34",
   "metadata": {},
   "outputs": [
    {
     "name": "stdout",
     "output_type": "stream",
     "text": [
      "hello\n",
      "Error handling\n"
     ]
    }
   ],
   "source": [
    "try:\n",
    "    print(\"hello\")\n",
    "    z+10\n",
    "    print(\"hey\")\n",
    "except:\n",
    "    print(\"Error handling\")"
   ]
  },
  {
   "cell_type": "code",
   "execution_count": 38,
   "id": "fcdacdae-cdc0-47d5-91d6-95c977fe2bcd",
   "metadata": {},
   "outputs": [
    {
     "name": "stdout",
     "output_type": "stream",
     "text": [
      "hello\n",
      "Error handling name 'yy' is not defined\n"
     ]
    }
   ],
   "source": [
    "try:\n",
    "    print(\"hello\")\n",
    "    yy+5\n",
    "    z+10\n",
    "    print(\"hey\")\n",
    "except NameError as e:\n",
    "    print(\"Error handling\",e)"
   ]
  },
  {
   "cell_type": "code",
   "execution_count": 46,
   "id": "866f2444-e511-448c-a1fa-57ab21df8fc8",
   "metadata": {},
   "outputs": [
    {
     "name": "stdout",
     "output_type": "stream",
     "text": [
      "hello\n",
      "Error handling: string index out of range\n"
     ]
    }
   ],
   "source": [
    "try:\n",
    "    print(\"hello\")\n",
    "    s=\"hey\"\n",
    "    s[5]\n",
    "    yy+5\n",
    "    print(\"hey\")\n",
    "except (NameError, IndexError) as e:\n",
    "    print(\"Error handling:\",e)"
   ]
  },
  {
   "cell_type": "code",
   "execution_count": 50,
   "id": "627a3541-4400-4ef3-969e-1c26eb186190",
   "metadata": {},
   "outputs": [
    {
     "name": "stdout",
     "output_type": "stream",
     "text": [
      "hello\n",
      "Error handling: name 'yy' is not defined\n"
     ]
    }
   ],
   "source": [
    "try:\n",
    "    print(\"hello\")\n",
    "    s=\"hey\"\n",
    "    s[0]\n",
    "    yy+5\n",
    "    print(\"hey\")\n",
    "except (NameError, IndexError) as e:\n",
    "    print(\"Error handling:\",e)"
   ]
  },
  {
   "cell_type": "code",
   "execution_count": 58,
   "id": "885e044f-80ba-472e-9bbc-c39e7c930ae3",
   "metadata": {},
   "outputs": [
    {
     "name": "stdout",
     "output_type": "stream",
     "text": [
      "hello\n",
      "Inner error\n",
      "hey\n"
     ]
    }
   ],
   "source": [
    "try:\n",
    "    print(\"hello\")\n",
    "    try:\n",
    "        s=\"hey\"\n",
    "        s[0]\n",
    "        yy+5\n",
    "    except:\n",
    "        print(\"Inner error\")\n",
    "    print(\"hey\")\n",
    "except (NameError, IndexError) as e:\n",
    "    print(\"Outer:\",e)"
   ]
  },
  {
   "cell_type": "code",
   "execution_count": 62,
   "id": "e2b9a9f1-58d7-40c5-84db-860af246eabb",
   "metadata": {},
   "outputs": [
    {
     "name": "stdout",
     "output_type": "stream",
     "text": [
      "hello\n",
      "Outer: string index out of range\n"
     ]
    }
   ],
   "source": [
    "try:\n",
    "    print(\"hello\")\n",
    "    s=\"hey\"\n",
    "    s[5]\n",
    "    print(\"hey\")\n",
    "except (NameError, IndexError) as e:\n",
    "    print(\"Outer:\",e)\n",
    "else: # error nhi hoga tabhi chlega nhi to nhi chlega\n",
    "    print(\"elese statement\")"
   ]
  },
  {
   "cell_type": "code",
   "execution_count": 66,
   "id": "35db83fa-2f82-43c8-ae8e-a7c21108d269",
   "metadata": {},
   "outputs": [
    {
     "name": "stdout",
     "output_type": "stream",
     "text": [
      "hello\n",
      "Outer: string index out of range\n",
      "finally statement\n"
     ]
    }
   ],
   "source": [
    "try:\n",
    "    print(\"hello\")\n",
    "    s=\"hey\"\n",
    "    s[5]\n",
    "    print(\"hey\")\n",
    "except (NameError, IndexError) as e:\n",
    "    print(\"Outer:\",e)\n",
    "finally: # error ho ya nhi ho ye humesha chalega\n",
    "    print(\"finally statement\")"
   ]
  },
  {
   "cell_type": "code",
   "execution_count": 76,
   "id": "3f49662d-e669-46ef-bc3f-e42ac2b1b7e2",
   "metadata": {},
   "outputs": [
    {
     "name": "stdout",
     "output_type": "stream",
     "text": [
      "Invalid age for value \n"
     ]
    }
   ],
   "source": [
    "age=16\n",
    "try:\n",
    "    if(age<18):\n",
    "        raise ValueError\n",
    "    \n",
    "    else:\n",
    "        print(\"Welcome user\")\n",
    "except ValueError as v:\n",
    "    print(\"Invalid age for value\",v)"
   ]
  },
  {
   "cell_type": "code",
   "execution_count": null,
   "id": "02c4b454-dee9-4464-9146-543347b6d983",
   "metadata": {},
   "outputs": [],
   "source": []
  }
 ],
 "metadata": {
  "kernelspec": {
   "display_name": "Python [conda env:base] *",
   "language": "python",
   "name": "conda-base-py"
  },
  "language_info": {
   "codemirror_mode": {
    "name": "ipython",
    "version": 3
   },
   "file_extension": ".py",
   "mimetype": "text/x-python",
   "name": "python",
   "nbconvert_exporter": "python",
   "pygments_lexer": "ipython3",
   "version": "3.12.7"
  }
 },
 "nbformat": 4,
 "nbformat_minor": 5
}
