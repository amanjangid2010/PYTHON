{
 "cells": [
  {
   "cell_type": "code",
   "execution_count": 2,
   "id": "23207493-19ad-4eea-a7e0-67721e5b3aef",
   "metadata": {},
   "outputs": [],
   "source": [
    "# Q1 Write a program that takes an integer input from the user and checks whether the number is odd or\n",
    "#even."
   ]
  },
  {
   "cell_type": "code",
   "execution_count": 10,
   "id": "775f996c-8659-4aba-bcaf-c1a99144c327",
   "metadata": {},
   "outputs": [
    {
     "name": "stdin",
     "output_type": "stream",
     "text": [
      "enter any number 10\n"
     ]
    },
    {
     "name": "stdout",
     "output_type": "stream",
     "text": [
      "even number\n"
     ]
    }
   ],
   "source": [
    "num = int(input(\"enter any number\"))\n",
    "if(num%2==0):\n",
    "    print(\"even number\")\n",
    "else:\n",
    "    print(\"odd number\")"
   ]
  },
  {
   "cell_type": "code",
   "execution_count": 12,
   "id": "8142a554-9cc5-4cd3-b22e-38dd14b93b05",
   "metadata": {},
   "outputs": [],
   "source": [
    "# Q2 Write a program that takes three numbers as input and prints the largest of the three."
   ]
  },
  {
   "cell_type": "code",
   "execution_count": 32,
   "id": "e19b4a8a-05c1-4e47-8d17-4ab67e3a808b",
   "metadata": {},
   "outputs": [
    {
     "name": "stdin",
     "output_type": "stream",
     "text": [
      "enter number 321\n",
      "enter number 458\n",
      "enter number 558\n"
     ]
    },
    {
     "name": "stdout",
     "output_type": "stream",
     "text": [
      "num3\n"
     ]
    }
   ],
   "source": [
    "num1 = int(input(\"enter number\"))\n",
    "num2 = int(input(\"enter number\"))\n",
    "num3 = int(input(\"enter number\"))\n",
    "\n",
    "if(num1>=num2 and num1>=num3):\n",
    "    print(\"num1\")\n",
    "elif(num2>=num1 and num2>=num3):\n",
    "    print(\"num2\")\n",
    "elif(num3>=num1 and num3>=num2):\n",
    "    print(\"num3\")"
   ]
  },
  {
   "cell_type": "code",
   "execution_count": 34,
   "id": "3559f37c-bed0-4cf5-a2c1-e569a1764d10",
   "metadata": {},
   "outputs": [],
   "source": [
    "# Q3 Write a program to check if a given year is a leap year. A leap year is divisible by 4 but not by 100\n",
    "#unless it is also divisible by 400."
   ]
  },
  {
   "cell_type": "code",
   "execution_count": 48,
   "id": "808275bd-d60b-4b86-bd6d-194ddf26a478",
   "metadata": {},
   "outputs": [
    {
     "name": "stdin",
     "output_type": "stream",
     "text": [
      "enter a year 2024\n"
     ]
    },
    {
     "name": "stdout",
     "output_type": "stream",
     "text": [
      "leep year\n"
     ]
    }
   ],
   "source": [
    "year = int(input(\"enter a year\"))\n",
    "\n",
    "if(year % 4==0 and year % 100 != 0) or ( year % 400 ==0):\n",
    "    print(\"leep year\")\n",
    "else:\n",
    "    print(\"not a leap year.\")"
   ]
  },
  {
   "cell_type": "code",
   "execution_count": 52,
   "id": "1332c8c2-0bea-46ad-89c0-5661c0c94e26",
   "metadata": {},
   "outputs": [],
   "source": [
    "#Q4 Write a program that takes a percentage (integer) as input and prints the corresponding grade based\n",
    "#on the following criteria:\n",
    "# >= 90: Grade A\n",
    "# >= 80: Grade B\n",
    "# >= 70: Grade C\n",
    "# >= 60: Grade D\n",
    "# < 60: Grade F"
   ]
  },
  {
   "cell_type": "code",
   "execution_count": 106,
   "id": "29d5cb75-e18e-4c78-8212-52d23b1d4b50",
   "metadata": {},
   "outputs": [
    {
     "name": "stdin",
     "output_type": "stream",
     "text": [
      "enter percentage 88\n"
     ]
    },
    {
     "name": "stdout",
     "output_type": "stream",
     "text": [
      "Grade B\n"
     ]
    }
   ],
   "source": [
    "num = float(input(\"enter percentage\"))\n",
    "\n",
    "if(num>=90 and num<=100):\n",
    "    print(\"Grade A\")\n",
    "elif(num>=80 and num<=90):\n",
    "    print(\"Grade B\")\n",
    "elif(num>=70 and num<=80):\n",
    "    print(\"Grade C\")\n",
    "elif(num>=60 and num<=70):\n",
    "    print(\"Grade D\")\n",
    "else:\n",
    "    print(\"Grade F\")"
   ]
  },
  {
   "cell_type": "code",
   "execution_count": 108,
   "id": "887dab7e-d149-4687-b3c8-755adf8a0309",
   "metadata": {},
   "outputs": [],
   "source": [
    "# Q5 Write a program that checks if a given letter is a vowel (a, e, i, o, u) or a consonant."
   ]
  },
  {
   "cell_type": "code",
   "execution_count": 118,
   "id": "58805d60-6013-4460-8d65-7240f4025215",
   "metadata": {},
   "outputs": [
    {
     "name": "stdin",
     "output_type": "stream",
     "text": [
      "ente any charchatr: o\n"
     ]
    },
    {
     "name": "stdout",
     "output_type": "stream",
     "text": [
      "vowel\n"
     ]
    }
   ],
   "source": [
    "vowel = input(\"ente any charcter:\")\n",
    "if( vowel=='a' or vowel=='e' or vowel=='i' or vowel=='o' or vowel=='u'):\n",
    "    print(\"vowel\")\n",
    "else:\n",
    "    print(\"consonant\")"
   ]
  },
  {
   "cell_type": "code",
   "execution_count": 120,
   "id": "a97e605c-6e78-4b56-86b9-f9c73d45c80d",
   "metadata": {},
   "outputs": [],
   "source": [
    "#Q6 Write a basic calculator program that takes two numbers and an operator (+, -, *, /) as input and\n",
    "# performs the specified operation. Print the result based on the operation."
   ]
  },
  {
   "cell_type": "code",
   "execution_count": 136,
   "id": "68be9e31-24f3-4a4e-9ac6-0e07ab85f0d6",
   "metadata": {},
   "outputs": [
    {
     "name": "stdin",
     "output_type": "stream",
     "text": [
      "enter 1st number: 55\n",
      "enter 2nd number: 55\n",
      "ente any operator +\n"
     ]
    },
    {
     "name": "stdout",
     "output_type": "stream",
     "text": [
      "110.0\n"
     ]
    }
   ],
   "source": [
    "num1 = float(input(\"enter 1st number:\"))\n",
    "num2 = float(input(\"enter 2nd number:\"))\n",
    "op = input(\"ente any operator\")\n",
    "\n",
    "if(op=='+'):\n",
    "    result = num1 + num2\n",
    "    print(result)\n",
    "elif(op=='-'):\n",
    "    result = num1 - num2\n",
    "    print(result)\n",
    "elif(op=='*'):\n",
    "    result = num1 * num2\n",
    "    print(result)\n",
    "elif(op=='/'):\n",
    "    result = num1 / num2\n",
    "    print(result)"
   ]
  },
  {
   "cell_type": "code",
   "execution_count": 138,
   "id": "fb8418e5-6267-47d2-94e9-fecf066b3c42",
   "metadata": {},
   "outputs": [],
   "source": [
    "#Q7 Write a program that takes a number as input and checks whether it is positive, negative, or zero."
   ]
  },
  {
   "cell_type": "code",
   "execution_count": 150,
   "id": "512424dc-8502-4966-9df6-eb21dc6d3407",
   "metadata": {},
   "outputs": [
    {
     "name": "stdin",
     "output_type": "stream",
     "text": [
      "enter any number -14\n"
     ]
    },
    {
     "name": "stdout",
     "output_type": "stream",
     "text": [
      "negative number\n"
     ]
    }
   ],
   "source": [
    "num = int(input(\"enter any number\"))\n",
    "if(num>0):\n",
    "    print(\"positive number\")\n",
    "elif(num<0):\n",
    "    print(\"negative number\")\n",
    "else:\n",
    "    print(\"zero\")"
   ]
  },
  {
   "cell_type": "code",
   "execution_count": 152,
   "id": "090408a6-fe57-43dc-b4bb-47e5cb951e21",
   "metadata": {},
   "outputs": [],
   "source": [
    "#Q8 Write a program that checks if a username and password entered by the user match the pre-set values\n",
    "# username = \"admin\" and password = \"1234\". If both match, print \"Login Successful\", otherwise print\n",
    "# \"Login Failed\"."
   ]
  },
  {
   "cell_type": "code",
   "execution_count": 164,
   "id": "289fb1ea-3c8c-4d70-b6e1-a4e143d1a020",
   "metadata": {},
   "outputs": [
    {
     "name": "stdin",
     "output_type": "stream",
     "text": [
      "enter username admin\n",
      "enter password 1234\n"
     ]
    },
    {
     "name": "stdout",
     "output_type": "stream",
     "text": [
      "Login Successful\n"
     ]
    }
   ],
   "source": [
    "username = input(\"enter username\")\n",
    "password= int(input(\"enter password\"))\n",
    "\n",
    "if(username == \"admin\"  and password == 1234):\n",
    "    print(\"Login Successful\")\n",
    "else:\n",
    "    print(\"Login Failed\")"
   ]
  },
  {
   "cell_type": "code",
   "execution_count": 168,
   "id": "c8759dd3-f9f6-40dc-8a28-d19c9350b7cd",
   "metadata": {},
   "outputs": [],
   "source": [
    "# Q9 Write a program that takes three sides of a triangle as input and checks if those sides form a valid\n",
    "# triangle. A triangle is valid if the sum of any two sides is greater than the third side.\n",
    "# Check conditions like a + b > c, b + c > a, and a + c > b."
   ]
  },
  {
   "cell_type": "code",
   "execution_count": 30,
   "id": "3bda994a-6896-46fa-a723-822560959c79",
   "metadata": {},
   "outputs": [
    {
     "name": "stdin",
     "output_type": "stream",
     "text": [
      "enter number 2\n",
      "enter number 42\n",
      "enter number 2\n"
     ]
    },
    {
     "name": "stdout",
     "output_type": "stream",
     "text": [
      "wrong\n"
     ]
    }
   ],
   "source": [
    "a = input(\"enter number\")\n",
    "b = input(\"enter number\")\n",
    "c = input(\"enter number\")\n",
    "\n",
    "if(a+b > c and b+c > a and a+c>b):\n",
    "    print(\"triangle\")\n",
    "\n",
    "else:\n",
    "    print(\"wrong\")"
   ]
  },
  {
   "cell_type": "code",
   "execution_count": 193,
   "id": "891acf43-dfdf-4e6c-80a3-448e4c35b0a6",
   "metadata": {},
   "outputs": [],
   "source": [
    "#Q10 Write a program that calculates the Body Mass Index (BMI) based on user input for weight (in\n",
    "# kilograms) and height (in meters). Then categorize the BMI into:\n",
    "\n",
    "# Underweight (BMI < 18.5)\n",
    "# Normal weight (18.5 <= BMI < 24.9)\n",
    "# Overweight (25 <= BMI < 29.9)\n",
    "# Obesity (BMI >= 30)"
   ]
  },
  {
   "cell_type": "code",
   "execution_count": 205,
   "id": "7df592cf-8f76-4894-87df-584932410ed7",
   "metadata": {},
   "outputs": [
    {
     "name": "stdin",
     "output_type": "stream",
     "text": [
      "enter weight 85\n",
      "enter height in meters 2\n"
     ]
    },
    {
     "name": "stdout",
     "output_type": "stream",
     "text": [
      "21.25\n",
      "Normal weight\n"
     ]
    }
   ],
   "source": [
    "weight = float(input(\"enter weight\"))\n",
    "height = float(input(\"enter height in meters\"))\n",
    "\n",
    "bmi = weight / height**2\n",
    "print(bmi)\n",
    "\n",
    "if(bmi < 18.5):\n",
    "    print(\"Underweight\")\n",
    "elif(18.5 <= bmi < 24.9):\n",
    "    print(\"Normal weight\")\n",
    "elif(25 <= bmi < 29.9):\n",
    "    print(\"Overweight\")\n",
    "elif(bmi>= 30):\n",
    "    print(\"Obesity\")\n"
   ]
  },
  {
   "cell_type": "code",
   "execution_count": 207,
   "id": "ba373d28-b14b-4979-a638-fc1a6db7fdaf",
   "metadata": {},
   "outputs": [],
   "source": [
    "# Q11 Write a program that calculates the discount for a product based on its price:\n",
    "# If price is greater than 1000, discount is 10%\n",
    "# If price is between 500 and 1000, discount is 5%\n",
    "# Otherwise, no discount\n",
    "# Print the final price after applying the discount."
   ]
  },
  {
   "cell_type": "code",
   "execution_count": 221,
   "id": "4b376658-73a1-4ef3-b401-d936fac6d7ff",
   "metadata": {},
   "outputs": [
    {
     "name": "stdin",
     "output_type": "stream",
     "text": [
      "Enter Product Price: 550\n"
     ]
    },
    {
     "name": "stdout",
     "output_type": "stream",
     "text": [
      "final price 522.5\n"
     ]
    }
   ],
   "source": [
    "price = float(input(\"Enter Product Price:\"))\n",
    "\n",
    "if(price>1000):\n",
    "    discount = 0.10\n",
    "\n",
    "elif(price>=500 and price<=1000):\n",
    "    discount = 0.05\n",
    "\n",
    "else:\n",
    "    print(\"no discount\")\n",
    "\n",
    "finalprice = price * (1 - discount)\n",
    "\n",
    "print(\"final price\", finalprice)"
   ]
  },
  {
   "cell_type": "code",
   "execution_count": 223,
   "id": "7649bf42-25c3-4263-b0b9-ad0bd572c6a2",
   "metadata": {},
   "outputs": [],
   "source": [
    "# Q12 Write a program that takes the name of a month as input and prints the number of days in that\n",
    "# month. Consider leap years for February."
   ]
  },
  {
   "cell_type": "code",
   "execution_count": 305,
   "id": "4f9ff5d4-4e79-43c7-86f1-045c5199a2f5",
   "metadata": {},
   "outputs": [
    {
     "name": "stdin",
     "output_type": "stream",
     "text": [
      "enter the month march\n"
     ]
    },
    {
     "name": "stdout",
     "output_type": "stream",
     "text": [
      "31 days\n"
     ]
    }
   ],
   "source": [
    "month=input(\"enter the month\")\n",
    "if(month==\"january\" or month==\"march\" or month==\"may\" or month==\"july\" or month==\"august\" or month==\"october\" or month==\"december\"):\n",
    "    print(\"31 days\")\n",
    "elif(month==\"april\" or month==\"june\" or month==\"september\" or month==\"november\"):\n",
    "    print(\"30 days\")\n",
    "elif(month==\"february\"):\n",
    "    print(\"28 days in a common year and 29 days in leap years\")\n",
    "else:\n",
    "    print(\"wrong input\")"
   ]
  },
  {
   "cell_type": "code",
   "execution_count": 307,
   "id": "57087ab3-ad07-4cb4-901f-bf91d1fa3727",
   "metadata": {},
   "outputs": [],
   "source": [
    "# Q13 Write a program that simulates a simple ATM. The user should be able to:\n",
    "# Check balance\n",
    "# Deposit money\n",
    "# Withdraw money (ensure the balance doesn't go negative) Use an if-else structure to handle the user's"
   ]
  },
  {
   "cell_type": "code",
   "execution_count": 62,
   "id": "aefd72b5-c6c2-4da1-be03-86e4a34fed88",
   "metadata": {},
   "outputs": [
    {
     "name": "stdout",
     "output_type": "stream",
     "text": [
      "1.Check balance\n",
      "2.Deposit money\n",
      "3.Withdraw money\n"
     ]
    },
    {
     "name": "stdin",
     "output_type": "stream",
     "text": [
      "enter any number 1 to 3:  3\n",
      "enter withdraw amount 500\n"
     ]
    },
    {
     "name": "stdout",
     "output_type": "stream",
     "text": [
      "withdraw your amount 10500.0\n"
     ]
    }
   ],
   "source": [
    "balance = 10000\n",
    "print(\"1.Check balance\")\n",
    "print(\"2.Deposit money\")\n",
    "print(\"3.Withdraw money\")\n",
    "\n",
    "choice = input(\"enter any number 1 to 3: \")\n",
    "\n",
    "if(choice==\"1\"):\n",
    "    print(\"your balance is:\", balance)\n",
    "\n",
    "elif(choice==\"2\"):\n",
    "    deposit = float(input(\"enter deposit amount\"))\n",
    "    if(deposit>0):\n",
    "        deposit = deposit + balance\n",
    "        print(\"deposit your amount\", deposit)\n",
    "\n",
    "    else:\n",
    "        print(\"please enter your amount greater than zero\")\n",
    "\n",
    "elif(choice==\"3\"):\n",
    "    withdraw = float(input(\"enter withdraw amount\"))\n",
    "    if(withdraw>0):\n",
    "        withdraw += balance\n",
    "        print(\"withdraw your amount\",withdraw)\n",
    "\n",
    "    else:\n",
    "        print(\"please enter your amount greater than zero\")\n",
    "else:\n",
    "    print(\"please valid option select\")"
   ]
  },
  {
   "cell_type": "code",
   "execution_count": 253,
   "id": "0c0bc4dd-a2d1-4c22-a740-3e67ce981061",
   "metadata": {},
   "outputs": [],
   "source": [
    "# Q14 Write a program that categorizes a given age into different groups:\n",
    "# Infant (0-1 year)\n",
    "# Toddler (2-4 years)\n",
    "# Child (5-12 years)\n",
    "# Teenager (13-19 years)\n",
    "# Adult (20-59 years)\n",
    "# Senior (60 years and above)"
   ]
  },
  {
   "cell_type": "code",
   "execution_count": 293,
   "id": "f98baa28-1972-45d3-9bc1-58da5f4bef27",
   "metadata": {},
   "outputs": [
    {
     "name": "stdin",
     "output_type": "stream",
     "text": [
      "ente age 55\n"
     ]
    },
    {
     "name": "stdout",
     "output_type": "stream",
     "text": [
      "Adult\n"
     ]
    }
   ],
   "source": [
    "age = int(input(\"ente age\"))\n",
    "\n",
    "if(age>=0 and age<=1):\n",
    "    print(\"Infant\")\n",
    "elif(age>=2 and age<=4):\n",
    "    print(\"Toddler\")\n",
    "elif(age>=5 and age<=12):\n",
    "    print(\"Child\")\n",
    "elif(age>=13 and age<=19):\n",
    "    print(\"Teenager\")\n",
    "elif(age>=20 and age<=59):\n",
    "    print(\"Adult\")\n",
    "else:\n",
    "    print(\"Senior\")"
   ]
  },
  {
   "cell_type": "code",
   "execution_count": 295,
   "id": "8a08018b-8c0f-4398-b5d6-4785eea69d68",
   "metadata": {},
   "outputs": [],
   "source": [
    "# Q15 Write a program that takes an integer (1-7) as input and prints the corresponding day of the week (1\n",
    "# for Monday, 2 for Tuesday, etc.)."
   ]
  },
  {
   "cell_type": "code",
   "execution_count": 301,
   "id": "41e2e41c-4770-474f-b675-cb7686fac4d0",
   "metadata": {},
   "outputs": [
    {
     "name": "stdin",
     "output_type": "stream",
     "text": [
      "enter number 1\n"
     ]
    },
    {
     "name": "stdout",
     "output_type": "stream",
     "text": [
      "Monday\n"
     ]
    }
   ],
   "source": [
    "# Monday, Tuesday, Wednesday, Thursday, Friday, Saturday and Sunday\n",
    "num = int(input(\"enter number\"))\n",
    "if(num==1):\n",
    "    print(\"Monday\")\n",
    "elif(num==2):\n",
    "    print(\"Tuesday\")\n",
    "elif(num==3):\n",
    "    print(\"Wednesday\")\n",
    "elif(num==4):\n",
    "    print(\"Thursday\")\n",
    "elif(num==5):\n",
    "    print(\"Friday\")\n",
    "elif(num==6):\n",
    "    print(\"Saturday\")\n",
    "elif(num==7):\n",
    "    print(\"Sunday\")\n",
    "else:\n",
    "    print(\"wrong\")"
   ]
  }
 ],
 "metadata": {
  "kernelspec": {
   "display_name": "Python [conda env:base] *",
   "language": "python",
   "name": "conda-base-py"
  },
  "language_info": {
   "codemirror_mode": {
    "name": "ipython",
    "version": 3
   },
   "file_extension": ".py",
   "mimetype": "text/x-python",
   "name": "python",
   "nbconvert_exporter": "python",
   "pygments_lexer": "ipython3",
   "version": "3.12.7"
  }
 },
 "nbformat": 4,
 "nbformat_minor": 5
}
