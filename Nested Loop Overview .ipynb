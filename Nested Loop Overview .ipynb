{
 "cells": [
  {
   "cell_type": "code",
   "execution_count": 15,
   "id": "35e2c8e9-3dca-4f2f-afbc-b965612efa3f",
   "metadata": {},
   "outputs": [],
   "source": [
    "# 1. Take a number from 2 to 5 and print its table "
   ]
  },
  {
   "cell_type": "code",
   "execution_count": 112,
   "id": "3d6b67d8-f70e-48b2-8c91-01d68b7b9ead",
   "metadata": {},
   "outputs": [
    {
     "name": "stdout",
     "output_type": "stream",
     "text": [
      "\n",
      "2 4 6 8 10 12 14 16 18 20 \n",
      "3 6 9 12 15 18 21 24 27 30 \n",
      "4 8 12 16 20 24 28 32 36 40 \n",
      "5 10 15 20 25 30 35 40 45 50 "
     ]
    }
   ],
   "source": [
    "for i in range(2,6):\n",
    "    print()\n",
    "    for j in range(1,11):\n",
    "        print(i*j,end=\" \")"
   ]
  },
  {
   "cell_type": "code",
   "execution_count": 114,
   "id": "475a73a9-9905-4edb-928c-607e46765388",
   "metadata": {},
   "outputs": [
    {
     "name": "stdout",
     "output_type": "stream",
     "text": [
      "\n",
      "6 12 18 24 30 36 42 48 54 60 \n",
      "5 10 15 20 25 30 35 40 45 50 \n",
      "4 8 12 16 20 24 28 32 36 40 \n",
      "3 6 9 12 15 18 21 24 27 30 \n",
      "2 4 6 8 10 12 14 16 18 20 "
     ]
    }
   ],
   "source": [
    "# 2.Take a number from 6 to 2 and print its table\n",
    "\n",
    "for i in range(6,1,-1):\n",
    "    print()\n",
    "    for j in range(1,11):\n",
    "        print(i*j,end=\" \")"
   ]
  },
  {
   "cell_type": "code",
   "execution_count": 116,
   "id": "6560570f-f505-4d79-bb76-a8e5c56ab147",
   "metadata": {},
   "outputs": [
    {
     "name": "stdout",
     "output_type": "stream",
     "text": [
      "\n",
      "60 54 48 42 36 30 24 18 12 6 \n",
      "50 45 40 35 30 25 20 15 10 5 \n",
      "40 36 32 28 24 20 16 12 8 4 \n",
      "30 27 24 21 18 15 12 9 6 3 \n",
      "20 18 16 14 12 10 8 6 4 2 "
     ]
    }
   ],
   "source": [
    "# 3. Take a number from 6 to 2 and print its table in reverse\n",
    "\n",
    "for i in range(6,1,-1):\n",
    "    print()\n",
    "    for j in range(10,0,-1):\n",
    "        print(i*j,end=\" \")"
   ]
  },
  {
   "cell_type": "code",
   "execution_count": 118,
   "id": "a17ea15a-2781-49fa-ba74-e5d1fa138ae4",
   "metadata": {},
   "outputs": [
    {
     "name": "stdin",
     "output_type": "stream",
     "text": [
      "enter any number 5\n"
     ]
    },
    {
     "name": "stdout",
     "output_type": "stream",
     "text": [
      "prime\n"
     ]
    }
   ],
   "source": [
    "# 4. Check a number is a prime not\n",
    "\n",
    "num = int(input(\"enter any number\"))\n",
    "x = 0\n",
    "for i in range(2,num):\n",
    "    if num % i ==0:\n",
    "        x+=1\n",
    "        break\n",
    "\n",
    "if x == 1:\n",
    "    print(\"not prime\")\n",
    "\n",
    "else:\n",
    "    print(\"prime\")"
   ]
  },
  {
   "cell_type": "code",
   "execution_count": 120,
   "id": "6747dda2-62d3-443d-824a-2684d8d683f4",
   "metadata": {},
   "outputs": [
    {
     "name": "stdout",
     "output_type": "stream",
     "text": [
      "prime 2\n",
      "prime 3\n",
      "prime 5\n",
      "prime 7\n",
      "prime 11\n",
      "prime 13\n",
      "prime 17\n",
      "prime 19\n"
     ]
    }
   ],
   "source": [
    "# 5. Take a range of values from 2 to 19 and print all prime number\n",
    "\n",
    "for num in range(2,20):\n",
    "    x =0\n",
    "    for i in range(2,num):\n",
    "        if num % i ==0:\n",
    "            x+=1\n",
    "            break\n",
    "    \n",
    "    else:\n",
    "        print(\"prime\",num)"
   ]
  },
  {
   "cell_type": "code",
   "execution_count": 122,
   "id": "df38b574-2a72-40d4-81ec-047c295ece80",
   "metadata": {},
   "outputs": [],
   "source": [
    "# ****\n",
    "# ***\n",
    "# **\n",
    "# *"
   ]
  },
  {
   "cell_type": "code",
   "execution_count": 126,
   "id": "91580fa9-96d7-42b2-a806-17ef00527a60",
   "metadata": {},
   "outputs": [
    {
     "name": "stdout",
     "output_type": "stream",
     "text": [
      "* * * * \n",
      "* * * \n",
      "* * \n",
      "* \n"
     ]
    }
   ],
   "source": [
    "for i in range(1,5):\n",
    "    for j in range(i,5):\n",
    "        print(\"*\",end=\" \")\n",
    "    print()"
   ]
  },
  {
   "cell_type": "code",
   "execution_count": 128,
   "id": "4cfb5dd6-69c3-49e4-8b6e-2d9891d1362d",
   "metadata": {},
   "outputs": [],
   "source": [
    "# $$$*\n",
    "# $$**\n",
    "# $***\n",
    "# ****"
   ]
  },
  {
   "cell_type": "code",
   "execution_count": 140,
   "id": "7e444e22-5732-476b-9e7d-deec66eee65a",
   "metadata": {},
   "outputs": [
    {
     "name": "stdout",
     "output_type": "stream",
     "text": [
      "$ $ $ * \n",
      "$ $ * * \n",
      "$ * * * \n",
      "* * * * \n"
     ]
    }
   ],
   "source": [
    "for i in range(1,5):\n",
    "    for j in range(i,4):\n",
    "        print(\"$\",end=\" \")\n",
    "    for k in range(1,i+1):\n",
    "        print(\"*\",end=\" \")\n",
    "    print()"
   ]
  },
  {
   "cell_type": "code",
   "execution_count": 156,
   "id": "04293fd2-bb7e-4a34-9cfc-6ed6395402ea",
   "metadata": {},
   "outputs": [
    {
     "name": "stdout",
     "output_type": "stream",
     "text": [
      "[10, 20, 30, 'aman', 'harsh', 'divyani']\n"
     ]
    }
   ],
   "source": [
    "mylist = [10,20,30,\"aman\",\"harsh\"]\n",
    "mylist.append(\"divyani\")\n",
    "print(mylist)"
   ]
  },
  {
   "cell_type": "code",
   "execution_count": 164,
   "id": "8845088e-142b-47c3-b5fd-1bde950acc85",
   "metadata": {},
   "outputs": [
    {
     "name": "stdout",
     "output_type": "stream",
     "text": [
      "[10, 20, 30, 'aman']\n"
     ]
    }
   ],
   "source": [
    "mylist = [10,20,30,\"aman\",\"harsh\"]\n",
    "mylist.pop()\n",
    "print(mylist)"
   ]
  },
  {
   "cell_type": "code",
   "execution_count": 174,
   "id": "b6acecc1-ba83-4138-b79f-b2caca1ce1a0",
   "metadata": {},
   "outputs": [
    {
     "name": "stdout",
     "output_type": "stream",
     "text": [
      "[10, 20, 30, 'aman'] harsh\n"
     ]
    }
   ],
   "source": [
    "mylist = [10,20,30,\"aman\",\"harsh\"]\n",
    "x = mylist.pop()\n",
    "print(mylist,x)\n"
   ]
  },
  {
   "cell_type": "code",
   "execution_count": 182,
   "id": "68bdd90c-7572-4fef-a361-14e49eb9930d",
   "metadata": {},
   "outputs": [
    {
     "name": "stdout",
     "output_type": "stream",
     "text": [
      "[10, 20, 30, 'aman'] None\n"
     ]
    }
   ],
   "source": [
    "mylist = [10,20,30,\"aman\",\"harsh\"]\n",
    "x= mylist.remove(\"harsh\")\n",
    "print(mylist,x)"
   ]
  },
  {
   "cell_type": "code",
   "execution_count": 190,
   "id": "94e342e9-f5a2-4d7d-a552-ff043a67e47f",
   "metadata": {},
   "outputs": [
    {
     "name": "stdout",
     "output_type": "stream",
     "text": [
      "[74, 545, 631, 7755]\n"
     ]
    }
   ],
   "source": [
    "mylist = [545,74,631,7755]\n",
    "mylist.sort()\n",
    "print(mylist)\n"
   ]
  },
  {
   "cell_type": "code",
   "execution_count": 202,
   "id": "cc95fb5c-d79a-4cc2-ad81-73d99cc5e139",
   "metadata": {},
   "outputs": [
    {
     "name": "stdout",
     "output_type": "stream",
     "text": [
      "[7, 10, 20, 30, 'aman', 'harsh']\n"
     ]
    }
   ],
   "source": [
    "mylist = [10,20,30,\"aman\",\"harsh\"]\n",
    "mylist.insert(0,7)\n",
    "print(mylist)"
   ]
  },
  {
   "cell_type": "code",
   "execution_count": null,
   "id": "8edaf5fe-9e01-4d5c-851f-123b07513b5f",
   "metadata": {},
   "outputs": [],
   "source": []
  }
 ],
 "metadata": {
  "kernelspec": {
   "display_name": "Python [conda env:base] *",
   "language": "python",
   "name": "conda-base-py"
  },
  "language_info": {
   "codemirror_mode": {
    "name": "ipython",
    "version": 3
   },
   "file_extension": ".py",
   "mimetype": "text/x-python",
   "name": "python",
   "nbconvert_exporter": "python",
   "pygments_lexer": "ipython3",
   "version": "3.12.7"
  }
 },
 "nbformat": 4,
 "nbformat_minor": 5
}
