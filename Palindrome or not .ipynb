{
 "cells": [
  {
   "cell_type": "code",
   "execution_count": 2,
   "id": "d3a95e9c-fdb3-45ec-9a2c-3c4cce31f1ff",
   "metadata": {},
   "outputs": [],
   "source": [
    "# 1. to check whether a number is a palindrome or not "
   ]
  },
  {
   "cell_type": "code",
   "execution_count": 10,
   "id": "21d9e96f-fd87-4bef-a024-e2db770a436b",
   "metadata": {},
   "outputs": [
    {
     "name": "stdin",
     "output_type": "stream",
     "text": [
      "enter any number 12321\n"
     ]
    },
    {
     "name": "stdout",
     "output_type": "stream",
     "text": [
      "Palindrome Number\n"
     ]
    }
   ],
   "source": [
    "num = int(input(\"enter any number\"))\n",
    "temp = num\n",
    "sum1 = 0\n",
    "while num>0:\n",
    "    a = num%10\n",
    "    sum1=sum1*10+a\n",
    "    num=num//10\n",
    "\n",
    "if temp==sum1:\n",
    "    print(\"Palindrome Number\")\n",
    "\n",
    "else:\n",
    "    print(\"Not Palindrome\")"
   ]
  },
  {
   "cell_type": "code",
   "execution_count": 4,
   "id": "d7946424-9082-4fa2-be6a-040e4925bfe1",
   "metadata": {},
   "outputs": [
    {
     "name": "stdin",
     "output_type": "stream",
     "text": [
      " enter name:  aman\n"
     ]
    },
    {
     "name": "stdout",
     "output_type": "stream",
     "text": [
      "not Palindrome\n"
     ]
    }
   ],
   "source": [
    "#2. to check whether a string is a palindrome or not\n",
    "\n",
    "s = input(\" enter name: \")\n",
    "index=0\n",
    "last=len(s)-1\n",
    "while(index < last):\n",
    "    if(s[index] !=s[last]):\n",
    "        print(\"not Palindrome\")\n",
    "        break\n",
    "    index+=1\n",
    "    last-=1\n",
    "else:\n",
    "    print(\"Palindrome\")"
   ]
  },
  {
   "cell_type": "code",
   "execution_count": 96,
   "id": "cb7fe95c-fe75-4b1d-9226-6c8d1942f1d0",
   "metadata": {},
   "outputs": [
    {
     "name": "stdin",
     "output_type": "stream",
     "text": [
      "enter any number 12\n"
     ]
    },
    {
     "name": "stdout",
     "output_type": "stream",
     "text": [
      "2\n",
      "3\n",
      "4\n",
      "6\n",
      "12\n"
     ]
    }
   ],
   "source": [
    "#3. to take a number and print all its factor\n",
    "\n",
    "num = int(input(\"enter any number\"))\n",
    "for i in range(2,num+1):\n",
    "    if num%i==0:\n",
    "        \n",
    "        print(i)"
   ]
  },
  {
   "cell_type": "code",
   "execution_count": 19,
   "id": "fd6ba851-7d74-48a5-9a7d-eb453d2e3a95",
   "metadata": {},
   "outputs": [
    {
     "name": "stdout",
     "output_type": "stream",
     "text": [
      "   * \n",
      "  * * \n",
      " * * * \n"
     ]
    }
   ],
   "source": [
    "for i in range(1,4):\n",
    "    for j in range(i,4):\n",
    "        print(\"\",end=\" \")\n",
    "    for k in range(1,i+1):\n",
    "        print(\"*\",end=\" \")\n",
    "    print()"
   ]
  },
  {
   "cell_type": "code",
   "execution_count": 33,
   "id": "430ec7c0-fcfa-417b-b1dc-925cf4fbbf88",
   "metadata": {},
   "outputs": [
    {
     "name": "stdout",
     "output_type": "stream",
     "text": [
      "   * \n",
      "  * * \n",
      " * * * \n",
      "* * * * \n"
     ]
    }
   ],
   "source": [
    "for i in range(1,5):\n",
    "    for j in range(i,4):\n",
    "        print(\" \",end=\"\")\n",
    "    for k in range(1,i+1):\n",
    "        print(\"*\",end=\" \")\n",
    "    print()"
   ]
  },
  {
   "cell_type": "code",
   "execution_count": 6,
   "id": "f1b02612-e02d-49a9-8c96-958dd640c5aa",
   "metadata": {},
   "outputs": [
    {
     "name": "stdout",
     "output_type": "stream",
     "text": [
      "* * * * \n",
      " * * * \n",
      "  * * \n",
      "   * \n"
     ]
    }
   ],
   "source": [
    "for i in range(5,1,-1):\n",
    "    for j in range(i,5):\n",
    "        print(\" \",end=\"\")\n",
    "    for k in range(1,i):\n",
    "        print(\"*\",end=\" \")\n",
    "    print()"
   ]
  }
 ],
 "metadata": {
  "kernelspec": {
   "display_name": "Python [conda env:base] *",
   "language": "python",
   "name": "conda-base-py"
  },
  "language_info": {
   "codemirror_mode": {
    "name": "ipython",
    "version": 3
   },
   "file_extension": ".py",
   "mimetype": "text/x-python",
   "name": "python",
   "nbconvert_exporter": "python",
   "pygments_lexer": "ipython3",
   "version": "3.12.7"
  }
 },
 "nbformat": 4,
 "nbformat_minor": 5
}
