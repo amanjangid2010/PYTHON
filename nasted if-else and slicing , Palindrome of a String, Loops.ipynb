{
 "cells": [
  {
   "cell_type": "code",
   "execution_count": 10,
   "id": "b68189a3-6cbd-42cd-aeae-1d5244598115",
   "metadata": {},
   "outputs": [],
   "source": [
    "# Nasted - if- else\n",
    "a = 21\n",
    "\n",
    "if(a%2==0):\n",
    "  print(\"divide by 2\")"
   ]
  },
  {
   "cell_type": "code",
   "execution_count": 12,
   "id": "9f1fd631-45ee-4b7a-883f-d3c883632aac",
   "metadata": {},
   "outputs": [
    {
     "name": "stdout",
     "output_type": "stream",
     "text": [
      "divide by 2\n"
     ]
    }
   ],
   "source": [
    "a = 20\n",
    "\n",
    "if(a%2==0):\n",
    "  print(\"divide by 2\")"
   ]
  },
  {
   "cell_type": "code",
   "execution_count": 14,
   "id": "c85b6851-0c8a-40b5-9a03-395ecb7f8fe1",
   "metadata": {},
   "outputs": [],
   "source": [
    "a = 20\n",
    "\n",
    "if(a%2==0):\n",
    "  if(a%7==0):\n",
    "    print(\"divide by 2 and 7\")"
   ]
  },
  {
   "cell_type": "code",
   "execution_count": 16,
   "id": "9f92ce53-78ab-4436-9d58-e76b47769f74",
   "metadata": {},
   "outputs": [
    {
     "name": "stdout",
     "output_type": "stream",
     "text": [
      "divide by 2 and 7\n"
     ]
    }
   ],
   "source": [
    "a = 28\n",
    "\n",
    "if(a%2==0):\n",
    "  if(a%7==0):\n",
    "    print(\"divide by 2 and 7\")"
   ]
  },
  {
   "cell_type": "code",
   "execution_count": 20,
   "id": "e3634b31-e651-42f7-ba27-cc3fa1e14fcf",
   "metadata": {},
   "outputs": [
    {
     "name": "stdout",
     "output_type": "stream",
     "text": [
      "number is not divided by 2\n"
     ]
    }
   ],
   "source": [
    "a = 25\n",
    "\n",
    "if(a%2==0):\n",
    "  if(a%7==0):\n",
    "    print(\"divide by 2 and 7\")\n",
    "else:\n",
    "  print(\"number is not divided by 2\")"
   ]
  },
  {
   "cell_type": "code",
   "execution_count": 22,
   "id": "8a43a69b-7199-4799-ae22-6f61659abfd1",
   "metadata": {},
   "outputs": [
    {
     "name": "stdout",
     "output_type": "stream",
     "text": [
      "only divisible by 7\n"
     ]
    }
   ],
   "source": [
    "a = 35\n",
    "\n",
    "if(a%7==0):\n",
    "  if(a%2==0):\n",
    "    print(\"divide by 2 and 7\")\n",
    "  else:\n",
    "    print(\"only divisible by 7\")\n",
    "else:\n",
    "  print(\"Number is not divided by 7\")"
   ]
  },
  {
   "cell_type": "code",
   "execution_count": 24,
   "id": "f22ba770-8d90-4ad1-b5e6-31990c49ad66",
   "metadata": {},
   "outputs": [
    {
     "name": "stdout",
     "output_type": "stream",
     "text": [
      "divide by 2 and 7\n"
     ]
    }
   ],
   "source": [
    "a = 14\n",
    "\n",
    "if(a%7==0):\n",
    "  if(a%2==0):\n",
    "    print(\"divide by 2 and 7\")\n",
    "  else:\n",
    "    print(\"only divisible by 7\")\n",
    "else:\n",
    "  print(\"Number is not divided by 7\")"
   ]
  },
  {
   "cell_type": "code",
   "execution_count": 26,
   "id": "bf75ecfc-9bf7-46ea-ba6a-ff59b4f3c886",
   "metadata": {},
   "outputs": [
    {
     "name": "stdout",
     "output_type": "stream",
     "text": [
      "Number is not divided by 7\n"
     ]
    }
   ],
   "source": [
    "a = 30\n",
    "\n",
    "if(a%7==0):\n",
    "  if(a%2==0):\n",
    "    print(\"divide by 2 and 7\")\n",
    "  else:\n",
    "    print(\"only divisible by 7\")\n",
    "else:\n",
    "  print(\"Number is not divided by 7\")"
   ]
  },
  {
   "cell_type": "code",
   "execution_count": 28,
   "id": "ea94d6e6-b640-4470-b2be-ad6004a2954e",
   "metadata": {},
   "outputs": [
    {
     "name": "stdin",
     "output_type": "stream",
     "text": [
      "enter age  18\n",
      "enter salary 5001\n"
     ]
    },
    {
     "name": "stdout",
     "output_type": "stream",
     "text": [
      "Goverment Employe\n"
     ]
    }
   ],
   "source": [
    "age = int(input(\"enter age \"))\n",
    "salary = int(input(\"enter salary\"))\n",
    "\n",
    "if(age>=18):\n",
    "  if(salary>=500):\n",
    "    print(\"Goverment Employe\")\n",
    "  else:\n",
    "    print(\"Privet Employe\")\n",
    "else:\n",
    "  print(\"No Job\")"
   ]
  },
  {
   "cell_type": "code",
   "execution_count": 32,
   "id": "4dcc733b-010d-4afb-a86f-340840b117e3",
   "metadata": {},
   "outputs": [],
   "source": [
    "# slicing operator & indexing"
   ]
  },
  {
   "cell_type": "code",
   "execution_count": 34,
   "id": "c4f90db4-5f97-464d-b0fa-35d74e472980",
   "metadata": {},
   "outputs": [],
   "source": [
    "# index => position\n",
    "# jaipur \n",
    "#012345 Positev indiex \n",
    "# Python main negative position bhi support hoti hai \n",
    "# jaipur\n",
    "# -6 -5 -4 -3 -2 -1\n",
    "# j   a  i  p  u  r"
   ]
  },
  {
   "cell_type": "code",
   "execution_count": 38,
   "id": "315a4a08-5189-4635-88b5-47c5d422640e",
   "metadata": {},
   "outputs": [],
   "source": [
    "# position dekhane k liy\n",
    "# [] scyer braket\n",
    "# [position likhan padyega]\n",
    "# [position]"
   ]
  },
  {
   "cell_type": "code",
   "execution_count": 40,
   "id": "e8aa2760-a88a-43bf-9ede-4a06d657b7ed",
   "metadata": {},
   "outputs": [
    {
     "name": "stdout",
     "output_type": "stream",
     "text": [
      "P\n"
     ]
    }
   ],
   "source": [
    "city = \"JAIPUR\"\n",
    "print(city[-3])"
   ]
  },
  {
   "cell_type": "code",
   "execution_count": 42,
   "id": "8bf36e5f-b7f8-4d18-b696-d1aa4a9ddf39",
   "metadata": {},
   "outputs": [],
   "source": [
    "# slicing\n",
    "# [start:stop:step=1] # step size ki by default value 1 hoti hai\n",
    "# step (optional hot hai)\n",
    "# stoping value , excluded hoti hai , apn jo bhi stoping value likhte hai wo\n",
    "# nahi milegi humesh ek kam hi milage"
   ]
  },
  {
   "cell_type": "code",
   "execution_count": 44,
   "id": "7e6b2f61-06cd-4d26-b581-8d57ccc25f4b",
   "metadata": {},
   "outputs": [
    {
     "name": "stdout",
     "output_type": "stream",
     "text": [
      "JAI\n"
     ]
    }
   ],
   "source": [
    "city = \"JAIPUR\"\n",
    "print(city[0:3])"
   ]
  },
  {
   "cell_type": "code",
   "execution_count": 46,
   "id": "100a434f-a8e4-48b0-8dd0-ce98fb45f2e9",
   "metadata": {},
   "outputs": [
    {
     "name": "stdout",
     "output_type": "stream",
     "text": [
      "IPU\n"
     ]
    }
   ],
   "source": [
    "city = \"JAIPUR\"\n",
    "print(city[2:5])"
   ]
  },
  {
   "cell_type": "code",
   "execution_count": 48,
   "id": "92445081-4fb9-4a86-b6d3-2427f5276631",
   "metadata": {},
   "outputs": [
    {
     "name": "stdout",
     "output_type": "stream",
     "text": [
      "JAI\n"
     ]
    }
   ],
   "source": [
    "city = \"JAIPUR\"\n",
    "print(city[0:3:1])"
   ]
  },
  {
   "cell_type": "code",
   "execution_count": 50,
   "id": "025b49cf-5e82-4198-bb2d-4e3ddce73efb",
   "metadata": {},
   "outputs": [
    {
     "name": "stdout",
     "output_type": "stream",
     "text": [
      "AP\n"
     ]
    }
   ],
   "source": [
    "city = \"JAIPUR\"\n",
    "print(city[1:5:2]) # 1+2 => 3+2=> 5"
   ]
  },
  {
   "cell_type": "code",
   "execution_count": 52,
   "id": "c09815c2-f559-4796-9793-085463f219c1",
   "metadata": {},
   "outputs": [
    {
     "name": "stdout",
     "output_type": "stream",
     "text": [
      "JIU\n"
     ]
    }
   ],
   "source": [
    "city = \"JAIPUR\"\n",
    "print(city[0:6:2]) # 0 print 0+2=> 2 print 2+2=> 4 print 4+2= 6 range main hain hen nhi"
   ]
  },
  {
   "cell_type": "code",
   "execution_count": 54,
   "id": "d78ed372-489e-4d9a-8341-575802f61afe",
   "metadata": {},
   "outputs": [
    {
     "name": "stdout",
     "output_type": "stream",
     "text": [
      "JAIPUR\n"
     ]
    }
   ],
   "source": [
    "city = \"JAIPUR\"\n",
    "print(city[0:]) # 0 start not stopping position \n",
    "# 0 se last tk chalega"
   ]
  },
  {
   "cell_type": "code",
   "execution_count": 56,
   "id": "56392d0e-7d7a-43c3-b704-4c4255ba1f25",
   "metadata": {},
   "outputs": [
    {
     "name": "stdout",
     "output_type": "stream",
     "text": [
      "JAIP\n"
     ]
    }
   ],
   "source": [
    "city = \"JAIPUR\"\n",
    "print(city[:4]) # starting value nhi milege to 0 se \n",
    "# jo position di hai waha tak chalega"
   ]
  },
  {
   "cell_type": "code",
   "execution_count": 58,
   "id": "8c3e8018-1062-4793-bd75-80e04bf3145f",
   "metadata": {},
   "outputs": [
    {
     "name": "stdout",
     "output_type": "stream",
     "text": [
      "JIU\n"
     ]
    }
   ],
   "source": [
    "city = \"JAIPUR\"\n",
    "print(city[:6:2])"
   ]
  },
  {
   "cell_type": "code",
   "execution_count": 60,
   "id": "2d65620e-05a9-453c-b3c7-9d89b0fa7ef7",
   "metadata": {},
   "outputs": [
    {
     "name": "stdout",
     "output_type": "stream",
     "text": [
      "JAIPUR\n"
     ]
    }
   ],
   "source": [
    "city = \"JAIPUR\"\n",
    "print(city[0:100]) # 100 correcter nhi hai to last tak milega"
   ]
  },
  {
   "cell_type": "code",
   "execution_count": 62,
   "id": "14771778-f26a-4bcc-b77d-742ed6080c22",
   "metadata": {},
   "outputs": [
    {
     "name": "stdout",
     "output_type": "stream",
     "text": [
      "\n"
     ]
    }
   ],
   "source": [
    "city = \"JAIPUR\"\n",
    "print(city[0:6:-1]) # chalega nhi kyo ki 1-1= 0 answer empty milega"
   ]
  },
  {
   "cell_type": "code",
   "execution_count": 64,
   "id": "2282113a-25b6-43f9-94a8-4b2e0f896f74",
   "metadata": {},
   "outputs": [
    {
     "name": "stdout",
     "output_type": "stream",
     "text": [
      "\n"
     ]
    }
   ],
   "source": [
    "city = \"JAIPUR\"\n",
    "print(city[1:6:-2]) # 1-2= nhi chlega"
   ]
  },
  {
   "cell_type": "code",
   "execution_count": 66,
   "id": "4a4c66d0-ffde-4c2d-a182-6bc0d8e9c5cf",
   "metadata": {},
   "outputs": [
    {
     "name": "stdout",
     "output_type": "stream",
     "text": [
      "IPU\n"
     ]
    }
   ],
   "source": [
    "city = \"JAIPUR\"\n",
    "print(city[-4:-1]) # -4+1=> -3 print -3+1=> -2 print -2+1=> -1 print"
   ]
  },
  {
   "cell_type": "code",
   "execution_count": 68,
   "id": "584a8354-c1e7-49b9-91a9-09b44120cb01",
   "metadata": {},
   "outputs": [
    {
     "name": "stdout",
     "output_type": "stream",
     "text": [
      "\n"
     ]
    }
   ],
   "source": [
    "city = \"JAIPUR\"\n",
    "print(city[-4:-1:-1]) # -4+-1=> -5 not my range"
   ]
  },
  {
   "cell_type": "code",
   "execution_count": 70,
   "id": "ea9de4ba-133a-4ae7-aeda-73e6face940e",
   "metadata": {},
   "outputs": [
    {
     "name": "stdout",
     "output_type": "stream",
     "text": [
      "RUPIAJ\n"
     ]
    }
   ],
   "source": [
    "city = \"JAIPUR\"\n",
    "print(city[-1::-1])"
   ]
  },
  {
   "cell_type": "code",
   "execution_count": 72,
   "id": "4ce9725d-d19c-46b9-85a2-e628910329ec",
   "metadata": {},
   "outputs": [
    {
     "name": "stdout",
     "output_type": "stream",
     "text": [
      "RUPIAJ\n"
     ]
    }
   ],
   "source": [
    "city = \"JAIPUR\"\n",
    "print(city[::-1]) # nagative indexing"
   ]
  },
  {
   "cell_type": "code",
   "execution_count": 74,
   "id": "c9972be8-0c63-4c2a-9b27-461577a8868a",
   "metadata": {},
   "outputs": [],
   "source": [
    "# palindrome of a string"
   ]
  },
  {
   "cell_type": "code",
   "execution_count": 76,
   "id": "1877b37b-0fc6-4662-8693-d97b290e8736",
   "metadata": {},
   "outputs": [
    {
     "name": "stdout",
     "output_type": "stream",
     "text": [
      "not palindrome\n"
     ]
    }
   ],
   "source": [
    "city =\"JAIPUR\"\n",
    "if(city==city[::-1]):\n",
    "  print(\"palindrome\")\n",
    "else:\n",
    "  print(\"not palindrome\")"
   ]
  },
  {
   "cell_type": "code",
   "execution_count": 78,
   "id": "6626b9cd-177b-4a9e-8d8f-3cb0c01654d8",
   "metadata": {},
   "outputs": [
    {
     "name": "stdout",
     "output_type": "stream",
     "text": [
      "palindrome\n"
     ]
    }
   ],
   "source": [
    "city =\"SARAS\"\n",
    "if(city==city[::-1]):\n",
    "  print(\"palindrome\")\n",
    "else:\n",
    "  print(\"not palindrome\")\n",
    "\n",
    "# ye walin approach ko hum kaam main nhi lenge ye only python main work\n",
    "# karti hai kyoki dusri language main indexing kaam nhi karti hai"
   ]
  },
  {
   "cell_type": "code",
   "execution_count": 80,
   "id": "71ae558d-8d40-405d-9ce3-e9400a563b3b",
   "metadata": {},
   "outputs": [],
   "source": [
    "# loops = > statement => kese bhi task ko repetatively karwaty hai\n",
    "# for loop, while loop\n",
    "# c langueg => for(i=0; < condition ; i++)\n",
    "# range => jo condition likhte hai jo value likhte hai wo he generate karta hai\n",
    "# range=> (start, stop, step size) range function is function return a generate a number\n",
    "# c langueg mian (i=0; i < 5 ; i++) # 0,1,2,3,4,5\n",
    "# python maim likhane k liye \n",
    "# range(0,5) => 0,1,2,3,4 => stoping value include nhi hoti hai"
   ]
  },
  {
   "cell_type": "code",
   "execution_count": 82,
   "id": "26e48f18-f364-4c65-9d0f-b490e452278a",
   "metadata": {},
   "outputs": [
    {
     "name": "stdout",
     "output_type": "stream",
     "text": [
      "0\n",
      "1\n",
      "2\n",
      "3\n",
      "4\n"
     ]
    }
   ],
   "source": [
    "for i in range(0,5): # i ek variable hai jo kuch bhi ho skata tha\n",
    "# in ek optatere hai jo memeber ship opratier hai jo value ko chaeck \n",
    "# kar rha tha  \n",
    "# range value banaye ga => 0,1,2,3,4\n",
    "  print(i)"
   ]
  },
  {
   "cell_type": "code",
   "execution_count": 84,
   "id": "39aaa3dd-063f-4b8c-a0a7-5f2958d76b47",
   "metadata": {},
   "outputs": [
    {
     "name": "stdout",
     "output_type": "stream",
     "text": [
      "5\n",
      "4\n",
      "3\n",
      "2\n",
      "1\n"
     ]
    }
   ],
   "source": [
    "for i in range(5,0,-1):\n",
    "  print(i)              # loop ko revers main likhane ka liy"
   ]
  },
  {
   "cell_type": "code",
   "execution_count": null,
   "id": "5d72cbde-c1e9-43fa-b7ec-9fb7cc9d08b4",
   "metadata": {},
   "outputs": [],
   "source": []
  }
 ],
 "metadata": {
  "kernelspec": {
   "display_name": "Python [conda env:base] *",
   "language": "python",
   "name": "conda-base-py"
  },
  "language_info": {
   "codemirror_mode": {
    "name": "ipython",
    "version": 3
   },
   "file_extension": ".py",
   "mimetype": "text/x-python",
   "name": "python",
   "nbconvert_exporter": "python",
   "pygments_lexer": "ipython3",
   "version": "3.12.7"
  }
 },
 "nbformat": 4,
 "nbformat_minor": 5
}
