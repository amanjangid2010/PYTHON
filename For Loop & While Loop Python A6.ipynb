{
 "cells": [
  {
   "cell_type": "code",
   "execution_count": 43,
   "id": "a38026e0-360c-48f4-bf00-de2865c37e35",
   "metadata": {},
   "outputs": [
    {
     "name": "stdin",
     "output_type": "stream",
     "text": [
      "enter any number 10\n"
     ]
    },
    {
     "name": "stdout",
     "output_type": "stream",
     "text": [
      "1 2 3 4 5 6 7 8 9 10 "
     ]
    }
   ],
   "source": [
    "#1. Write a program to print all natural numbers from 1 to n. – using while\n",
    "#loop\n",
    "\n",
    "\n",
    "n = int(input(\"enter any number\"))\n",
    "i=1\n",
    "while(i<=n):\n",
    "    print(i,end=\" \")\n",
    "    i = i+1"
   ]
  },
  {
   "cell_type": "code",
   "execution_count": 12,
   "id": "df67f22b-2234-4968-af67-aec87d4f4ff1",
   "metadata": {},
   "outputs": [
    {
     "name": "stdin",
     "output_type": "stream",
     "text": [
      "enter any number  10\n"
     ]
    },
    {
     "name": "stdout",
     "output_type": "stream",
     "text": [
      "10 9 8 7 6 5 4 3 2 1 "
     ]
    }
   ],
   "source": [
    "#2. Write a program to print all natural numbers in reverse (from n to 1). –\n",
    "#using while loop\n",
    "\n",
    "\n",
    "n = int(input(\"enter any number \"))\n",
    "i = 1\n",
    "while(n>=i):\n",
    "    print(n,end=\" \")\n",
    "    n = n-1"
   ]
  },
  {
   "cell_type": "code",
   "execution_count": 20,
   "id": "2bb6b415-8ca2-41ac-9015-b65967f2404e",
   "metadata": {},
   "outputs": [
    {
     "name": "stdout",
     "output_type": "stream",
     "text": [
      "a b c d e f g h i j k l m n o p q r s t u v w x y z "
     ]
    }
   ],
   "source": [
    "#3. Write a program to print all alphabets from a to z. – using while loop\n",
    "\n",
    "\n",
    "char = 'a'\n",
    "while(char<='z'):\n",
    "    print(char,end=\" \")\n",
    "    char = chr(ord(char)+1)"
   ]
  },
  {
   "cell_type": "code",
   "execution_count": 11,
   "id": "6782d8b2-7e9b-4acf-bb53-6d87b23ca080",
   "metadata": {},
   "outputs": [
    {
     "name": "stdout",
     "output_type": "stream",
     "text": [
      "2 4 6 8 10 12 14 16 18 20 22 24 26 28 30 32 34 36 38 40 42 44 46 48 50 52 54 56 58 60 62 64 66 68 70 72 74 76 78 80 82 84 86 88 90 92 94 96 98 100 "
     ]
    }
   ],
   "source": [
    "#4. Write a program to print all even numbers between 1 to 100. – using\n",
    "#while loop\n",
    "\n",
    "start = 1\n",
    "end = 100\n",
    "\n",
    "while(start<=end):\n",
    "    if(start%2 == 0):\n",
    "        print(start, end = \" \")\n",
    "    start = start + 1"
   ]
  },
  {
   "cell_type": "code",
   "execution_count": 37,
   "id": "f8ceaaff-31e9-4fae-8351-11010c8c5ebd",
   "metadata": {},
   "outputs": [
    {
     "name": "stdin",
     "output_type": "stream",
     "text": [
      "enter any number 10\n"
     ]
    },
    {
     "name": "stdout",
     "output_type": "stream",
     "text": [
      "1 3 5 7 9 odd number sum: 25 "
     ]
    }
   ],
   "source": [
    "# 4. Write a program to print all even numbers between 1 to 100. – using\n",
    "#while loop\n",
    "\n",
    "start = 1\n",
    "end = int(input(\"enter any number\"))\n",
    "sum = 0\n",
    "while(start<=end):\n",
    "    if(start%2!=0):\n",
    "        print(start, end =\" \")\n",
    "        sum = sum + start\n",
    "    start = start + 1\n",
    "\n",
    "print(\"odd number sum:\",sum,end = \" \")"
   ]
  },
  {
   "cell_type": "code",
   "execution_count": 3,
   "id": "af8795fc-c984-4fb5-bec6-c2e37e46a0cb",
   "metadata": {},
   "outputs": [
    {
     "name": "stdout",
     "output_type": "stream",
     "text": [
      "5\n"
     ]
    }
   ],
   "source": [
    "# 6. Write a program to count the number of digits in a number.\n",
    "\n",
    "\n",
    "num = 45268\n",
    "count = 0\n",
    "while(num>0):\n",
    "    count = count + 1\n",
    "    num = num//10\n",
    "print(count)"
   ]
  },
  {
   "cell_type": "code",
   "execution_count": 2,
   "id": "a22c1d10-b10e-4564-8c41-15668731afc6",
   "metadata": {},
   "outputs": [],
   "source": [
    "#7. Write a program to calculate the sum of digits of a number."
   ]
  },
  {
   "cell_type": "code",
   "execution_count": null,
   "id": "8c9d553e-5beb-4ba3-a533-13ebe31fce03",
   "metadata": {},
   "outputs": [],
   "source": [
    "#10. Write a program to enter a number and print its reverse.\n",
    "\n",
    "num = 568648\n",
    "while(num>0):\n",
    "    num = num // 10\n",
    "    "
   ]
  },
  {
   "cell_type": "code",
   "execution_count": null,
   "id": "649722b8-9dff-4d28-8d3e-d552d478c9d5",
   "metadata": {},
   "outputs": [],
   "source": []
  },
  {
   "cell_type": "code",
   "execution_count": null,
   "id": "ff7ec677-e90d-477b-b66a-2c14dbd32375",
   "metadata": {},
   "outputs": [],
   "source": []
  },
  {
   "cell_type": "code",
   "execution_count": null,
   "id": "0e4958a4-4b5a-4a8e-bebc-08654220d410",
   "metadata": {},
   "outputs": [],
   "source": []
  },
  {
   "cell_type": "code",
   "execution_count": null,
   "id": "46efeaaf-ea11-4cb0-832a-06372f4eb607",
   "metadata": {},
   "outputs": [],
   "source": []
  },
  {
   "cell_type": "code",
   "execution_count": null,
   "id": "568884f5-e104-4f7f-a697-be52c82adcd3",
   "metadata": {},
   "outputs": [],
   "source": []
  },
  {
   "cell_type": "code",
   "execution_count": null,
   "id": "d0a4e4f3-8aaf-4cab-8fe3-dcf68a0ec8ac",
   "metadata": {},
   "outputs": [],
   "source": []
  }
 ],
 "metadata": {
  "kernelspec": {
   "display_name": "Python [conda env:base] *",
   "language": "python",
   "name": "conda-base-py"
  },
  "language_info": {
   "codemirror_mode": {
    "name": "ipython",
    "version": 3
   },
   "file_extension": ".py",
   "mimetype": "text/x-python",
   "name": "python",
   "nbconvert_exporter": "python",
   "pygments_lexer": "ipython3",
   "version": "3.12.7"
  }
 },
 "nbformat": 4,
 "nbformat_minor": 5
}
