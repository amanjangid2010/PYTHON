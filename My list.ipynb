{
 "cells": [
  {
   "cell_type": "code",
   "execution_count": 26,
   "id": "c9b0180b-d851-436c-9b74-f6c837809251",
   "metadata": {},
   "outputs": [
    {
     "name": "stdout",
     "output_type": "stream",
     "text": [
      "20\n",
      "7\n",
      "[20, 7]\n"
     ]
    }
   ],
   "source": [
    "mylist2 = []\n",
    "mylist = [10,20,4,7,5,12]\n",
    "for x in range(0,len(mylist)-1):\n",
    "    if(mylist[x]>mylist[x+1]):\n",
    "        mylist2.append(mylist[x])\n",
    "        print(mylist[x])\n",
    "\n",
    "print(mylist2)"
   ]
  },
  {
   "cell_type": "code",
   "execution_count": 36,
   "id": "8f8a4ae3-6284-4c5a-ac3b-ccf8ebb44d71",
   "metadata": {},
   "outputs": [
    {
     "name": "stdout",
     "output_type": "stream",
     "text": [
      "[20, 10, 4, 7, 5, 12]\n",
      "\n"
     ]
    }
   ],
   "source": [
    "\n",
    "mylist = [10,20,4,7,5,12]\n",
    "for i in range(0,1):\n",
    "    for j in range(i+1, len(mylist)):\n",
    "        if(mylist[j]>mylist[i]):\n",
    "            temp=mylist[i]\n",
    "            mylist[i]=mylist[j]\n",
    "            mylist[j]=temp\n",
    "            \n",
    "            print(mylist)\n",
    "    print()"
   ]
  },
  {
   "cell_type": "code",
   "execution_count": 38,
   "id": "1520a5f8-317c-484c-9503-2d069ea198d3",
   "metadata": {},
   "outputs": [],
   "source": [
    "mylist = [10,20,4,7,5,12]\n",
    "for i in range(0,1):\n",
    "    for j in range(i+1,len(mylist)):\n",
    "        if(mylist[j]>mylist[i]):\n",
    "            temp"
   ]
  },
  {
   "cell_type": "code",
   "execution_count": 42,
   "id": "e17c6127-5a55-422d-b0dd-e9d09b98d817",
   "metadata": {},
   "outputs": [
    {
     "name": "stdout",
     "output_type": "stream",
     "text": [
      "850\n"
     ]
    }
   ],
   "source": [
    "mylist = [10,20,4,70,500,12,850]\n",
    "maxi=mylist[0]\n",
    "for i in range(1,len(mylist)):\n",
    "    if(mylist[i]>maxi):\n",
    "        maxi=mylist[i]\n",
    "\n",
    "print(maxi)"
   ]
  },
  {
   "cell_type": "code",
   "execution_count": 47,
   "id": "d121946b-893a-406f-b8d1-9006645db5bd",
   "metadata": {},
   "outputs": [
    {
     "name": "stdout",
     "output_type": "stream",
     "text": [
      "second highest 100\n"
     ]
    }
   ],
   "source": [
    "list2=[10,30,500,70,60,100]\n",
    "x=list2[0]\n",
    "y=0\n",
    "for i in range(0,len(list2)):\n",
    "    if(list2[i]>x):\n",
    "        y=x\n",
    "        x=list2[i]\n",
    "    elif(list2[i]>y):\n",
    "        y=list2[i]\n",
    "\n",
    "print(\"second highest\",y)"
   ]
  },
  {
   "cell_type": "code",
   "execution_count": 49,
   "id": "8c650f8b-96fa-4ee3-a5e6-9680850b1a59",
   "metadata": {},
   "outputs": [
    {
     "name": "stdout",
     "output_type": "stream",
     "text": [
      "2 11\n",
      "4 9\n"
     ]
    }
   ],
   "source": [
    "mylist = [0,1,2,4,6,8,9,11]\n",
    "k = 13\n",
    "for i in range(0,len(mylist)):\n",
    "    for j in range(i,len(mylist)):\n",
    "        if(mylist[i]+mylist[j]==k):\n",
    "            print(mylist[i],mylist[j])"
   ]
  },
  {
   "cell_type": "code",
   "execution_count": null,
   "id": "a232f457-1b6b-4dcc-851b-8be4de7b1b82",
   "metadata": {},
   "outputs": [],
   "source": []
  }
 ],
 "metadata": {
  "kernelspec": {
   "display_name": "Python [conda env:base] *",
   "language": "python",
   "name": "conda-base-py"
  },
  "language_info": {
   "codemirror_mode": {
    "name": "ipython",
    "version": 3
   },
   "file_extension": ".py",
   "mimetype": "text/x-python",
   "name": "python",
   "nbconvert_exporter": "python",
   "pygments_lexer": "ipython3",
   "version": "3.12.7"
  }
 },
 "nbformat": 4,
 "nbformat_minor": 5
}
