{
 "cells": [
  {
   "cell_type": "code",
   "execution_count": 4,
   "id": "df8bf290-fe06-4baa-83e0-e273d8b2c032",
   "metadata": {},
   "outputs": [],
   "source": [
    "# nested loop? \n",
    "#condition  andar condition ki baat karng to usko condition ki baat kar \n",
    "# rhey the usko nested if else bol rhy thy\n"
   ]
  },
  {
   "cell_type": "code",
   "execution_count": 16,
   "id": "80b5c63b-2709-4c40-af6c-f92ada17c4e3",
   "metadata": {},
   "outputs": [
    {
     "name": "stdout",
     "output_type": "stream",
     "text": [
      "student 1\n",
      "student 2\n",
      "student 3\n",
      "student 4\n"
     ]
    }
   ],
   "source": [
    "for i in range(1,5):\n",
    "    print(\"student\",i)"
   ]
  },
  {
   "cell_type": "code",
   "execution_count": 28,
   "id": "34643a86-6488-4b42-9a71-95ac07f8ae88",
   "metadata": {},
   "outputs": [
    {
     "name": "stdout",
     "output_type": "stream",
     "text": [
      "student: => 1\n",
      "subject 1\n",
      "subject 2\n",
      "subject 3\n",
      "student: => 2\n",
      "subject 1\n",
      "subject 2\n",
      "subject 3\n",
      "student: => 3\n",
      "subject 1\n",
      "subject 2\n",
      "subject 3\n",
      "student: => 4\n",
      "subject 1\n",
      "subject 2\n",
      "subject 3\n"
     ]
    }
   ],
   "source": [
    "for i in range(1,5):\n",
    "    print(\"student: =>\",i)\n",
    "\n",
    "    for j in range(1,4):\n",
    "        print(\"subject\", j)"
   ]
  },
  {
   "cell_type": "code",
   "execution_count": 32,
   "id": "803188d5-8431-4ec2-bb72-7730f50e9b88",
   "metadata": {},
   "outputs": [
    {
     "name": "stdout",
     "output_type": "stream",
     "text": [
      "student 1\n",
      "subject:=> 5\n",
      "subject:=> 4\n",
      "subject:=> 3\n",
      "subject:=> 2\n",
      "subject:=> 1\n",
      "student 2\n",
      "subject:=> 5\n",
      "subject:=> 4\n",
      "subject:=> 3\n",
      "subject:=> 2\n",
      "subject:=> 1\n",
      "student 3\n",
      "subject:=> 5\n",
      "subject:=> 4\n",
      "subject:=> 3\n",
      "subject:=> 2\n",
      "subject:=> 1\n",
      "student 4\n",
      "subject:=> 5\n",
      "subject:=> 4\n",
      "subject:=> 3\n",
      "subject:=> 2\n",
      "subject:=> 1\n",
      "student 5\n",
      "subject:=> 5\n",
      "subject:=> 4\n",
      "subject:=> 3\n",
      "subject:=> 2\n",
      "subject:=> 1\n",
      "student 6\n",
      "subject:=> 5\n",
      "subject:=> 4\n",
      "subject:=> 3\n",
      "subject:=> 2\n",
      "subject:=> 1\n"
     ]
    }
   ],
   "source": [
    "for i in range(1,7):\n",
    "    print(\"student\",i)\n",
    "\n",
    "    for j in range(5,0,-1):\n",
    "        print(\"subject:=>\",j)"
   ]
  },
  {
   "cell_type": "code",
   "execution_count": 38,
   "id": "ad68777f-760b-4665-85da-e89a3cfafa9b",
   "metadata": {},
   "outputs": [
    {
     "name": "stdout",
     "output_type": "stream",
     "text": [
      "student 1\n",
      "subject==> 1\n",
      "student 2\n",
      "subject==> 1\n",
      "subject==> 2\n",
      "student 3\n",
      "subject==> 1\n",
      "subject==> 2\n",
      "subject==> 3\n",
      "student 4\n",
      "subject==> 1\n",
      "subject==> 2\n",
      "subject==> 3\n",
      "subject==> 4\n"
     ]
    }
   ],
   "source": [
    "for i in range(1,5):\n",
    "    print(\"student\",i)\n",
    "\n",
    "    for j in range(1,i+1):\n",
    "        print(\"subject==>\",j)"
   ]
  },
  {
   "cell_type": "code",
   "execution_count": 48,
   "id": "ee21fff1-d1cd-48a2-a229-93517abefc72",
   "metadata": {},
   "outputs": [
    {
     "name": "stdout",
     "output_type": "stream",
     "text": [
      "studnet 1\n",
      "sub=> 7\n",
      "sub=> 6\n",
      "sub=> 5\n",
      "sub=> 4\n",
      "sub=> 3\n",
      "sub=> 2\n",
      "studnet 2\n",
      "sub=> 7\n",
      "sub=> 6\n",
      "sub=> 5\n",
      "sub=> 4\n",
      "sub=> 3\n",
      "studnet 3\n",
      "sub=> 7\n",
      "sub=> 6\n",
      "sub=> 5\n",
      "sub=> 4\n",
      "studnet 4\n",
      "sub=> 7\n",
      "sub=> 6\n",
      "sub=> 5\n",
      "studnet 5\n",
      "sub=> 7\n",
      "sub=> 6\n",
      "studnet 6\n",
      "sub=> 7\n"
     ]
    }
   ],
   "source": [
    "for i in range(1,7):\n",
    "    print(\"studnet\",i)\n",
    "\n",
    "    for j in range(7,i,-1):\n",
    "        print(\"sub=>\",j)"
   ]
  },
  {
   "cell_type": "code",
   "execution_count": 56,
   "id": "4efdcf39-d914-4633-8e6b-3e74574522f3",
   "metadata": {},
   "outputs": [
    {
     "name": "stdout",
     "output_type": "stream",
     "text": [
      "studnet 1\n",
      "sub 0\n",
      "sub 1\n",
      "sub 2\n",
      "sub 3\n",
      "sub 4\n",
      "sub 5\n",
      "studnet 2\n",
      "sub 0\n",
      "sub 1\n",
      "sub 2\n",
      "sub 3\n",
      "sub 4\n",
      "studnet 3\n",
      "sub 0\n",
      "sub 1\n",
      "sub 2\n",
      "sub 3\n",
      "studnet 4\n",
      "sub 0\n",
      "sub 1\n",
      "sub 2\n",
      "studnet 5\n",
      "sub 0\n",
      "sub 1\n",
      "studnet 6\n",
      "sub 0\n"
     ]
    }
   ],
   "source": [
    "for i in range(1,7):\n",
    "    print(\"studnet\",i)\n",
    "    for j in range(0,7-i):\n",
    "        print(\"sub\",j)"
   ]
  },
  {
   "cell_type": "code",
   "execution_count": 62,
   "id": "c69cd154-f07a-4cbd-a96d-c46a8d860b1a",
   "metadata": {},
   "outputs": [
    {
     "name": "stdout",
     "output_type": "stream",
     "text": [
      "student 1\n",
      "subject=>> 1\n",
      "subject=>> 2\n",
      "subject=>> 3\n",
      "subject=>> 4\n",
      "subject=>> 5\n",
      "subject=>> 6\n",
      "student 2\n",
      "subject=>> 2\n",
      "subject=>> 3\n",
      "subject=>> 4\n",
      "subject=>> 5\n",
      "subject=>> 6\n",
      "student 3\n",
      "subject=>> 3\n",
      "subject=>> 4\n",
      "subject=>> 5\n",
      "subject=>> 6\n",
      "student 4\n",
      "subject=>> 4\n",
      "subject=>> 5\n",
      "subject=>> 6\n",
      "student 5\n",
      "subject=>> 5\n",
      "subject=>> 6\n",
      "student 6\n",
      "subject=>> 6\n"
     ]
    }
   ],
   "source": [
    "for i in range(1,7):\n",
    "    print(\"student\",i)\n",
    "\n",
    "    for j in range(i,7):\n",
    "        print(\"subject=>>\",j)"
   ]
  },
  {
   "cell_type": "code",
   "execution_count": 72,
   "id": "f0b1281c-9452-4a47-8149-00f36daf9964",
   "metadata": {},
   "outputs": [
    {
     "name": "stdout",
     "output_type": "stream",
     "text": [
      "student 7\n",
      "subject=>> 0\n",
      "subject=>> 1\n",
      "subject=>> 2\n",
      "subject=>> 3\n",
      "subject=>> 4\n",
      "subject=>> 5\n",
      "subject=>> 6\n",
      "student 6\n",
      "subject=>> 0\n",
      "subject=>> 1\n",
      "subject=>> 2\n",
      "subject=>> 3\n",
      "subject=>> 4\n",
      "subject=>> 5\n",
      "student 5\n",
      "subject=>> 0\n",
      "subject=>> 1\n",
      "subject=>> 2\n",
      "subject=>> 3\n",
      "subject=>> 4\n",
      "student 4\n",
      "subject=>> 0\n",
      "subject=>> 1\n",
      "subject=>> 2\n",
      "subject=>> 3\n",
      "student 3\n",
      "subject=>> 0\n",
      "subject=>> 1\n",
      "subject=>> 2\n",
      "student 2\n",
      "subject=>> 0\n",
      "subject=>> 1\n",
      "student 1\n",
      "subject=>> 0\n"
     ]
    }
   ],
   "source": [
    "for i in range(7,0,-1):\n",
    "    print(\"student\",i)\n",
    "\n",
    "    for j in range(0,i):\n",
    "        print(\"subject=>>\",j)"
   ]
  },
  {
   "cell_type": "code",
   "execution_count": 76,
   "id": "6e3df272-da98-47ef-91e7-8c122cd265ca",
   "metadata": {},
   "outputs": [
    {
     "name": "stdout",
     "output_type": "stream",
     "text": [
      "student 7\n",
      "subject=>> 7\n",
      "subject=>> 6\n",
      "subject=>> 5\n",
      "subject=>> 4\n",
      "subject=>> 3\n",
      "subject=>> 2\n",
      "subject=>> 1\n",
      "student 6\n",
      "subject=>> 6\n",
      "subject=>> 5\n",
      "subject=>> 4\n",
      "subject=>> 3\n",
      "subject=>> 2\n",
      "subject=>> 1\n",
      "student 5\n",
      "subject=>> 5\n",
      "subject=>> 4\n",
      "subject=>> 3\n",
      "subject=>> 2\n",
      "subject=>> 1\n",
      "student 4\n",
      "subject=>> 4\n",
      "subject=>> 3\n",
      "subject=>> 2\n",
      "subject=>> 1\n",
      "student 3\n",
      "subject=>> 3\n",
      "subject=>> 2\n",
      "subject=>> 1\n",
      "student 2\n",
      "subject=>> 2\n",
      "subject=>> 1\n",
      "student 1\n",
      "subject=>> 1\n"
     ]
    }
   ],
   "source": [
    "for i in range(7,0,-1):\n",
    "    print(\"student\",i)\n",
    "\n",
    "    for j in range(i,0,-1):\n",
    "        print(\"subject=>>\",j)"
   ]
  },
  {
   "cell_type": "code",
   "execution_count": 88,
   "id": "2079646c-c8f1-48f1-8a64-9c9dfce9d806",
   "metadata": {},
   "outputs": [
    {
     "name": "stdout",
     "output_type": "stream",
     "text": [
      "student 1\n",
      "subject=> 1 subject=> 2 subject=> 3 subject=> 4 \n",
      "student 2\n",
      "subject=> 1 subject=> 2 subject=> 3 subject=> 4 \n",
      "student 3\n",
      "subject=> 1 subject=> 2 subject=> 3 subject=> 4 \n",
      "student 4\n",
      "subject=> 1 subject=> 2 subject=> 3 subject=> 4 \n"
     ]
    }
   ],
   "source": [
    "for i in range(1,5):\n",
    "    print(\"student\",i)\n",
    "\n",
    "    for j in range(1,5):\n",
    "        print(\"subject=>\",j,end=\" \")\n",
    "    print(\"\")"
   ]
  },
  {
   "cell_type": "code",
   "execution_count": 92,
   "id": "7bee52ca-5cb6-4f63-8dd9-53d53c88b769",
   "metadata": {},
   "outputs": [
    {
     "name": "stdout",
     "output_type": "stream",
     "text": [
      "subject=> 1 subject=> 2 subject=> 3 subject=> 4 \n",
      "subject=> 1 subject=> 2 subject=> 3 subject=> 4 \n",
      "subject=> 1 subject=> 2 subject=> 3 subject=> 4 \n",
      "subject=> 1 subject=> 2 subject=> 3 subject=> 4 \n"
     ]
    }
   ],
   "source": [
    "for i in range(1,5):\n",
    "    \n",
    "    for j in range(1,5):\n",
    "        print(\"subject=>\",j,end=\" \")\n",
    "    print(\"\")"
   ]
  },
  {
   "cell_type": "code",
   "execution_count": 98,
   "id": "5b58ac58-9dd9-46c6-b676-7fbbc9edc5a8",
   "metadata": {},
   "outputs": [
    {
     "name": "stdout",
     "output_type": "stream",
     "text": [
      "* * * * \n",
      "* * * * \n",
      "* * * * \n",
      "* * * * \n"
     ]
    }
   ],
   "source": [
    "for i in range(1,5):\n",
    "    \n",
    "    for j in range(1,5):\n",
    "        print(\"*\",end=\" \")\n",
    "    print(\"\")"
   ]
  },
  {
   "cell_type": "code",
   "execution_count": 116,
   "id": "80622729-7263-46cc-bed9-5aad8b629905",
   "metadata": {},
   "outputs": [
    {
     "name": "stdout",
     "output_type": "stream",
     "text": [
      "* \n",
      "* * \n",
      "* * * \n",
      "* * * * \n"
     ]
    }
   ],
   "source": [
    "for i in range(1,5):\n",
    "    for j in range(1,i+1):\n",
    "        print(\"*\",end=\" \")\n",
    "    print(\"\")"
   ]
  },
  {
   "cell_type": "code",
   "execution_count": 150,
   "id": "f0c44fc5-85a7-40b4-875b-1bc3c533f32a",
   "metadata": {},
   "outputs": [
    {
     "name": "stdout",
     "output_type": "stream",
     "text": [
      "* \n",
      "* * \n",
      "* * * \n",
      "* * * * \n"
     ]
    }
   ],
   "source": [
    "for i in range(5,1,-1):\n",
    "    for j in range(6,i,-1):\n",
    "        print(\"*\",end=\" \")\n",
    "    print(\"\")"
   ]
  },
  {
   "cell_type": "code",
   "execution_count": 154,
   "id": "c310db47-fe32-418c-8185-86bb1a883918",
   "metadata": {},
   "outputs": [
    {
     "name": "stdout",
     "output_type": "stream",
     "text": [
      "* \n",
      "* * \n",
      "* * * \n",
      "* * * * \n"
     ]
    }
   ],
   "source": [
    "for i in range(5,1,-1):\n",
    "    for j in range(i-1,5):\n",
    "        print(\"*\",end=\" \")\n",
    "    print(\"\")"
   ]
  },
  {
   "cell_type": "code",
   "execution_count": 156,
   "id": "4d6c3e54-e610-4631-baaa-452b556fd3c5",
   "metadata": {},
   "outputs": [
    {
     "name": "stdout",
     "output_type": "stream",
     "text": [
      "* * * * * \n",
      "* * * * \n",
      "* * * \n",
      "* * \n",
      "* \n"
     ]
    }
   ],
   "source": [
    "for i in range(1,6):\n",
    "    for j in range(i,6):\n",
    "        print(\"*\",end=\" \")\n",
    "    print()"
   ]
  }
 ],
 "metadata": {
  "kernelspec": {
   "display_name": "Python [conda env:base] *",
   "language": "python",
   "name": "conda-base-py"
  },
  "language_info": {
   "codemirror_mode": {
    "name": "ipython",
    "version": 3
   },
   "file_extension": ".py",
   "mimetype": "text/x-python",
   "name": "python",
   "nbconvert_exporter": "python",
   "pygments_lexer": "ipython3",
   "version": "3.12.7"
  }
 },
 "nbformat": 4,
 "nbformat_minor": 5
}
