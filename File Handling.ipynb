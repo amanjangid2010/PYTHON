{
 "cells": [
  {
   "cell_type": "code",
   "execution_count": 2,
   "id": "a994e077-6ef9-4805-a849-f500800b9242",
   "metadata": {},
   "outputs": [],
   "source": [
    "# file handling\n",
    "# mechanism = read / write\n",
    "# "
   ]
  },
  {
   "cell_type": "code",
   "execution_count": 4,
   "id": "7a53633f-ee84-4720-874c-7ae096922014",
   "metadata": {},
   "outputs": [],
   "source": [
    "# file open = mode\n",
    "# operation = read / write\n",
    "# close karna"
   ]
  },
  {
   "cell_type": "code",
   "execution_count": 8,
   "id": "e9747fde-045e-45fe-b59b-45521f865faf",
   "metadata": {},
   "outputs": [
    {
     "name": "stdout",
     "output_type": "stream",
     "text": [
      "hello aman\n"
     ]
    }
   ],
   "source": [
    "fileobj=open(\"data.txt\", \"r\") # r = read mode\n",
    "out = fileobj.read()\n",
    "fileobj.close()\n",
    "\n",
    "print(out)"
   ]
  },
  {
   "cell_type": "code",
   "execution_count": 20,
   "id": "76756cfc-eb84-4731-8c7f-63dd3b465370",
   "metadata": {},
   "outputs": [],
   "source": [
    "fileobj=open(\"data.txt\", \"w\") # r = read mode\n",
    "fileobj.write(\"aman Here\")\n",
    "fileobj.close()\n"
   ]
  },
  {
   "cell_type": "code",
   "execution_count": 22,
   "id": "6330a832-36f7-4190-975e-a635e8e9ee76",
   "metadata": {},
   "outputs": [
    {
     "name": "stdout",
     "output_type": "stream",
     "text": [
      "aman Here\n"
     ]
    }
   ],
   "source": [
    "fileobj=open(\"data.txt\", \"r+\")\n",
    "out = fileobj.read()\n",
    "fileobj.write(\"aman Here\")\n",
    "fileobj.close()\n",
    "print(out)"
   ]
  },
  {
   "cell_type": "code",
   "execution_count": 32,
   "id": "b98eb927-f902-4285-9722-91fd3a09672f",
   "metadata": {},
   "outputs": [
    {
     "name": "stdout",
     "output_type": "stream",
     "text": [
      "\n"
     ]
    }
   ],
   "source": [
    "fileobj=open(\"data.txt\", \"r+\")\n",
    "\n",
    "fileobj.write(\"##\")\n",
    "out=fileobj.read()\n",
    "fileobj.close()\n",
    "print(out)"
   ]
  },
  {
   "cell_type": "code",
   "execution_count": 34,
   "id": "bf4ffa9d-bf50-4d9c-9a52-0e707e87cd75",
   "metadata": {},
   "outputs": [
    {
     "name": "stdout",
     "output_type": "stream",
     "text": [
      "\n"
     ]
    }
   ],
   "source": [
    "fileobj=open(\"data.txt\", \"w+\") \n",
    "out=fileobj.read()\n",
    "fileobj.write(\"##\")\n",
    "fileobj.close()\n",
    "print(out)"
   ]
  },
  {
   "cell_type": "code",
   "execution_count": 36,
   "id": "91160b85-c5d9-49a5-835e-7041c4542cfa",
   "metadata": {},
   "outputs": [
    {
     "name": "stdout",
     "output_type": "stream",
     "text": [
      "\n"
     ]
    }
   ],
   "source": [
    "fileobj=open(\"data.txt\", \"w+\") \n",
    "print\n",
    "out=fileobj.read()\n",
    "fileobj.write(\"##\")\n",
    "fileobj.close()\n",
    "print(out)"
   ]
  },
  {
   "cell_type": "code",
   "execution_count": 38,
   "id": "739fb86a-8f73-4987-b77c-c213d0c0b6aa",
   "metadata": {},
   "outputs": [
    {
     "name": "stdout",
     "output_type": "stream",
     "text": [
      "cur1: 0\n",
      "cur2: 0\n",
      "cur3: 4\n",
      "cur4: 2\n",
      "ja\n"
     ]
    }
   ],
   "source": [
    "fileobj=open(\"data.txt\",\"w+\")\n",
    "print(\"cur1:\",fileobj.tell())\n",
    "out=fileobj.read()\n",
    "print(\"cur2:\",fileobj.tell())\n",
    "fileobj.write(\"raja\")\n",
    "print(\"cur3:\",fileobj.tell())\n",
    "\n",
    "fileobj.seek(2)\n",
    "print(\"cur4:\",fileobj.tell())\n",
    "out=fileobj.read()\n",
    "\n",
    "fileobj.close()\n",
    "print(out)"
   ]
  },
  {
   "cell_type": "code",
   "execution_count": 46,
   "id": "7f3d0068-4cd4-409f-9dfb-aae676595ce7",
   "metadata": {},
   "outputs": [
    {
     "name": "stdout",
     "output_type": "stream",
     "text": [
      "raja\n"
     ]
    }
   ],
   "source": [
    "with open(\"data.txt\",\"r\") as fileobj:\n",
    "    out = fileobj.read()\n",
    "\n",
    "print(out)"
   ]
  },
  {
   "cell_type": "code",
   "execution_count": 48,
   "id": "9d7e8696-5f9d-48cf-a598-6ab0f247da93",
   "metadata": {},
   "outputs": [
    {
     "name": "stdout",
     "output_type": "stream",
     "text": [
      "raja\n",
      "hey\n",
      "hello\n"
     ]
    }
   ],
   "source": [
    "with open(\"data.txt\",\"r\") as fileobj:\n",
    "    out = fileobj.read()\n",
    "\n",
    "print(out)"
   ]
  },
  {
   "cell_type": "code",
   "execution_count": 50,
   "id": "b77aca47-b900-4570-91c0-9f20fb5273c5",
   "metadata": {},
   "outputs": [
    {
     "name": "stdout",
     "output_type": "stream",
     "text": [
      "raj\n"
     ]
    }
   ],
   "source": [
    "with open(\"data.txt\",\"r\") as fileobj:\n",
    "    out = fileobj.read(3)\n",
    "\n",
    "print(out)"
   ]
  },
  {
   "cell_type": "code",
   "execution_count": 54,
   "id": "6cc92f83-71b8-4750-927b-e7d8e762eb6c",
   "metadata": {},
   "outputs": [
    {
     "name": "stdout",
     "output_type": "stream",
     "text": [
      "raja\n",
      "\n",
      "hey\n",
      "\n"
     ]
    }
   ],
   "source": [
    "with open(\"data.txt\",\"r\") as fileobj:\n",
    "    print(fileobj.readline())\n",
    "    print(fileobj.readline())\n"
   ]
  },
  {
   "cell_type": "code",
   "execution_count": 56,
   "id": "20a4b140-7e79-4b27-9a69-a1f53c5ce515",
   "metadata": {},
   "outputs": [
    {
     "name": "stdout",
     "output_type": "stream",
     "text": [
      "raja\n",
      "\n",
      "hey\n",
      "\n",
      "hello\n"
     ]
    }
   ],
   "source": [
    "with open(\"data.txt\",\"r\") as fileobj:\n",
    "    for x in fileobj:\n",
    "        print(x)"
   ]
  },
  {
   "cell_type": "code",
   "execution_count": 60,
   "id": "acbefddb-6de3-4e8e-b2ae-dd17c3b8a102",
   "metadata": {},
   "outputs": [
    {
     "name": "stdout",
     "output_type": "stream",
     "text": [
      "['raja\\n', 'hey\\n', 'hello']\n"
     ]
    }
   ],
   "source": [
    "with open(\"data.txt\",\"r\") as fileobj:\n",
    "    print(fileobj.readlines())"
   ]
  },
  {
   "cell_type": "code",
   "execution_count": 62,
   "id": "8e382864-816e-4227-adcd-c93e69bb135a",
   "metadata": {},
   "outputs": [
    {
     "name": "stdout",
     "output_type": "stream",
     "text": [
      "raja\n",
      "hey\n",
      "hello\n"
     ]
    }
   ],
   "source": [
    "with open(\"data.txt\",\"r\") as fileobj:\n",
    "    for x in fileobj:\n",
    "        print(x.strip())"
   ]
  },
  {
   "cell_type": "code",
   "execution_count": 64,
   "id": "28cbb0cd-4d00-48f2-a6d4-34939a034953",
   "metadata": {},
   "outputs": [
    {
     "name": "stdout",
     "output_type": "stream",
     "text": [
      "raja\n",
      "\n",
      "hey\n",
      "\n",
      "hello\n"
     ]
    }
   ],
   "source": [
    "with open(\"data.txt\",\"r\") as fileobj:\n",
    "    for x in fileobj:\n",
    "        print(x)"
   ]
  },
  {
   "cell_type": "code",
   "execution_count": 68,
   "id": "26139982-989a-47c3-a60c-d261bc8eda68",
   "metadata": {},
   "outputs": [
    {
     "name": "stdout",
     "output_type": "stream",
     "text": [
      "10,tushar,8000\n",
      "\n"
     ]
    }
   ],
   "source": [
    "with open(\"data.txt\",\"r\") as fileobj:\n",
    "    for x in fileobj:\n",
    "        print(x)\n",
    "        break"
   ]
  },
  {
   "cell_type": "code",
   "execution_count": 90,
   "id": "e1556c63-6fe6-4108-aef2-d0e44fe334c0",
   "metadata": {},
   "outputs": [
    {
     "data": {
      "text/plain": [
       "['10', 'tushar', '8000']"
      ]
     },
     "execution_count": 90,
     "metadata": {},
     "output_type": "execute_result"
    }
   ],
   "source": [
    "x = \"10,tushar,8000\"\n",
    "mylist=x.split(\",\")\n",
    "mylist\n"
   ]
  },
  {
   "cell_type": "code",
   "execution_count": 96,
   "id": "9f6f71fb-72e3-4471-bc7f-87af2a9edab2",
   "metadata": {},
   "outputs": [
    {
     "name": "stdout",
     "output_type": "stream",
     "text": [
      "10\n",
      "tushar\n",
      "8000\n",
      "\n",
      "20\n",
      "aman\n",
      "9000\n"
     ]
    }
   ],
   "source": [
    "with open(\"data.txt\",\"r\") as fileobj:\n",
    "    for x in fileobj:\n",
    "        mylist=x.split(\",\")\n",
    "        for data in mylist:\n",
    "            print(data)"
   ]
  },
  {
   "cell_type": "code",
   "execution_count": 98,
   "id": "ebdd76fe-3fe9-4771-b21a-d7e348b2f155",
   "metadata": {},
   "outputs": [
    {
     "name": "stdout",
     "output_type": "stream",
     "text": [
      "10\n",
      "tushar\n",
      "8000\n",
      "20\n",
      "aman\n",
      "9000\n"
     ]
    }
   ],
   "source": [
    "import csv\n",
    "\n",
    "fileobj=open(\"data.txt\",\"r\")\n",
    "filec=csv.reader(fileobj)\n",
    "for line in filec:\n",
    "    for data in line:\n",
    "        print(data)"
   ]
  },
  {
   "cell_type": "code",
   "execution_count": 100,
   "id": "e4ff2555-e9e4-4cc6-847b-98018e99322e",
   "metadata": {},
   "outputs": [],
   "source": [
    "# exception handling\n",
    "# unwanted condition = program = behave or it may give you some othe result\n"
   ]
  },
  {
   "cell_type": "code",
   "execution_count": 102,
   "id": "9624a300-a0e7-46e4-b7eb-15628d2358ba",
   "metadata": {},
   "outputs": [
    {
     "name": "stdout",
     "output_type": "stream",
     "text": [
      "hey\n"
     ]
    },
    {
     "ename": "NameError",
     "evalue": "name 'xyz' is not defined",
     "output_type": "error",
     "traceback": [
      "\u001b[1;31m---------------------------------------------------------------------------\u001b[0m",
      "\u001b[1;31mNameError\u001b[0m                                 Traceback (most recent call last)",
      "Cell \u001b[1;32mIn[102], line 2\u001b[0m\n\u001b[0;32m      1\u001b[0m \u001b[38;5;28mprint\u001b[39m(\u001b[38;5;124m\"\u001b[39m\u001b[38;5;124mhey\u001b[39m\u001b[38;5;124m\"\u001b[39m)\n\u001b[1;32m----> 2\u001b[0m xyz\n\u001b[0;32m      3\u001b[0m \u001b[38;5;28mprint\u001b[39m(\u001b[38;5;124m\"\u001b[39m\u001b[38;5;124mhello\u001b[39m\u001b[38;5;124m\"\u001b[39m)\n",
      "\u001b[1;31mNameError\u001b[0m: name 'xyz' is not defined"
     ]
    }
   ],
   "source": [
    "print(\"hey\")\n",
    "xyz\n",
    "print(\"hello\")"
   ]
  },
  {
   "cell_type": "code",
   "execution_count": 104,
   "id": "0de23513-037c-427c-a011-0e92375ee405",
   "metadata": {},
   "outputs": [
    {
     "name": "stdout",
     "output_type": "stream",
     "text": [
      "hey\n",
      "error is handled\n"
     ]
    }
   ],
   "source": [
    "try:\n",
    "    print(\"hey\")\n",
    "    xyz\n",
    "    print(\"hello\")\n",
    "except:\n",
    "    print(\"error is handled\")"
   ]
  },
  {
   "cell_type": "code",
   "execution_count": 106,
   "id": "0d77ac60-5fcc-4d0f-8bbd-f1dd7db6b6ab",
   "metadata": {},
   "outputs": [
    {
     "name": "stdout",
     "output_type": "stream",
     "text": [
      "hey\n",
      "hello\n"
     ]
    }
   ],
   "source": [
    "try:\n",
    "    print(\"hey\")\n",
    "    print(\"hello\")\n",
    "except:\n",
    "    print(\"error is handled\")"
   ]
  },
  {
   "cell_type": "code",
   "execution_count": 110,
   "id": "45195980-9730-46a5-a41c-ea7e620b2409",
   "metadata": {},
   "outputs": [
    {
     "name": "stdout",
     "output_type": "stream",
     "text": [
      "hey\n",
      "error is handled: name 'xyz' is not defined\n"
     ]
    }
   ],
   "source": [
    "# ValueError , zero , NameError, indentation , arithmetic , IndexError\n",
    "try:\n",
    "    print(\"hey\")\n",
    "    xyz\n",
    "    print(\"hello\")\n",
    "except NameError as n:\n",
    "    print(\"error is handled:\",n)\n",
    "except ZeroDivisionError:\n",
    "    print(\"Error is handled 2\")"
   ]
  },
  {
   "cell_type": "code",
   "execution_count": 112,
   "id": "c1b90a0d-a138-44bd-b77e-943208eba5a5",
   "metadata": {},
   "outputs": [
    {
     "name": "stdout",
     "output_type": "stream",
     "text": [
      "hey\n",
      "error is handled: division by zero\n"
     ]
    }
   ],
   "source": [
    "try:\n",
    "    print(\"hey\")\n",
    "    10/0\n",
    "    print(\"hello\")\n",
    "except (NameError,ZeroDivisionError) as n:\n",
    "    print(\"error is handled:\",n)"
   ]
  },
  {
   "cell_type": "code",
   "execution_count": 114,
   "id": "7cb2dc8f-3d33-4bcc-abef-0b25928a0db5",
   "metadata": {},
   "outputs": [
    {
     "name": "stdout",
     "output_type": "stream",
     "text": [
      "hey\n",
      "10 divide by zero\n",
      "hello\n"
     ]
    }
   ],
   "source": [
    "try:\n",
    "    print(\"hey\")\n",
    "    try:\n",
    "        10/0\n",
    "    except:\n",
    "        print(\"10 divide by zero\")\n",
    "    print(\"hello\")\n",
    "except (NameError,ZeroDivisionError) as n:\n",
    "    print(\"error is handled:\",n)"
   ]
  },
  {
   "cell_type": "code",
   "execution_count": 116,
   "id": "eef8dc77-4166-41be-a7de-9abab40bfa1a",
   "metadata": {},
   "outputs": [
    {
     "name": "stdout",
     "output_type": "stream",
     "text": [
      "hey\n",
      "10 divide by zero\n",
      "hello\n",
      "error is handled: name 'jhgj' is not defined\n"
     ]
    }
   ],
   "source": [
    "try:\n",
    "    print(\"hey\")\n",
    "    try:\n",
    "        10/0\n",
    "    except:\n",
    "        print(\"10 divide by zero\")\n",
    "    print(\"hello\")\n",
    "    jhgj\n",
    "except (NameError,ZeroDivisionError) as n:\n",
    "    print(\"error is handled:\",n)"
   ]
  },
  {
   "cell_type": "code",
   "execution_count": 118,
   "id": "e03c2565-41cc-4b2b-8c1d-d155eabce8f6",
   "metadata": {},
   "outputs": [
    {
     "name": "stdout",
     "output_type": "stream",
     "text": [
      "hey\n",
      "error is handled:\n",
      "finally block\n"
     ]
    }
   ],
   "source": [
    "try:\n",
    "    print(\"hey\")\n",
    "    xyz\n",
    "    print(\"hello\")\n",
    "except:\n",
    "    print(\"error is handled:\")\n",
    "\n",
    "finally:\n",
    "    print(\"finally block\")"
   ]
  },
  {
   "cell_type": "code",
   "execution_count": null,
   "id": "0451437b-7367-49b7-acb6-2027fac21e4e",
   "metadata": {},
   "outputs": [],
   "source": [
    "# basic\n",
    "# for loop\n",
    "# conditional & while loop\n",
    "# list\n",
    "# tuples\n",
    "# dictionary , set\n",
    "# list comphrehension\n",
    "# functions\n",
    "# type of paramenter = mutable and immutable\n",
    "# required, positiona, keyword\n",
    "# first- class functions and high order functions\n",
    "# map / filler function (high order functions)\n",
    "# lambda\n",
    "# file handling\n",
    "# acces"
   ]
  }
 ],
 "metadata": {
  "kernelspec": {
   "display_name": "Python [conda env:base] *",
   "language": "python",
   "name": "conda-base-py"
  },
  "language_info": {
   "codemirror_mode": {
    "name": "ipython",
    "version": 3
   },
   "file_extension": ".py",
   "mimetype": "text/x-python",
   "name": "python",
   "nbconvert_exporter": "python",
   "pygments_lexer": "ipython3",
   "version": "3.12.7"
  }
 },
 "nbformat": 4,
 "nbformat_minor": 5
}
