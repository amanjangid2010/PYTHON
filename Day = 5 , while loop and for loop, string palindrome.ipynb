{
 "cells": [
  {
   "cell_type": "code",
   "execution_count": 16,
   "id": "58527a63-66d2-40b7-8d56-cf201af6c055",
   "metadata": {},
   "outputs": [],
   "source": [
    "# call by value\n",
    "# call by reference\n",
    "# call by object reference\n",
    "# Python main call by object reference support karta hai \n",
    "# jis type ki value hogi us according decide kary ga"
   ]
  },
  {
   "cell_type": "code",
   "execution_count": 12,
   "id": "43240596-e289-4511-a298-9a23c41e82b8",
   "metadata": {},
   "outputs": [
    {
     "name": "stdout",
     "output_type": "stream",
     "text": [
      "140717504211672 140717504211672\n"
     ]
    }
   ],
   "source": [
    "x = 10\n",
    "a = x\n",
    "print(id(x),id(a))"
   ]
  },
  {
   "cell_type": "code",
   "execution_count": 14,
   "id": "d7a50261-6c89-4ebe-8d75-dfb9772d004a",
   "metadata": {},
   "outputs": [
    {
     "name": "stdout",
     "output_type": "stream",
     "text": [
      "140717504211672 140717504211736\n"
     ]
    }
   ],
   "source": [
    "x = 12\n",
    "print(id(a), id(x)) # a ka memory address change nhi hoga vahi rhay ga"
   ]
  },
  {
   "cell_type": "code",
   "execution_count": 18,
   "id": "bb157dfb-0d12-48d5-ab43-6f16d0cfc63e",
   "metadata": {},
   "outputs": [],
   "source": [
    "# python main 2 category k data type hote hai\n",
    " \n",
    "#mutable and immutable\n",
    "\n",
    "#mutable => asea data type jatha par memory address naya create nhi hota \n",
    "#will have the same memory address\n",
    "\n",
    "#immutable = agear new memory address ban rha rha hai to immutable data type bolyng\n",
    "\n",
    "#immutable=>int, float, boolean, string, tuple\n",
    "\n",
    "#mutable=> list, dictionary, set"
   ]
  },
  {
   "cell_type": "code",
   "execution_count": 34,
   "id": "9a31c5a9-2c7d-4ca8-8655-d28d073d4479",
   "metadata": {},
   "outputs": [],
   "source": [
    "# armstrong number\n",
    "# 153\n",
    "# 1**3+5**3+3**3\n",
    "# 3+125+27\n",
    "# 153 == 153 "
   ]
  },
  {
   "cell_type": "code",
   "execution_count": 26,
   "id": "efd05678-7de4-4268-898b-97eb911b7a6b",
   "metadata": {},
   "outputs": [
    {
     "name": "stdout",
     "output_type": "stream",
     "text": [
      "451\n"
     ]
    }
   ],
   "source": [
    "num = 4512\n",
    "\n",
    "num = num//10\n",
    "print(num)"
   ]
  },
  {
   "cell_type": "code",
   "execution_count": 32,
   "id": "0b8fdc0d-e9f1-4c14-ae00-af9ae4c3129e",
   "metadata": {},
   "outputs": [
    {
     "name": "stdout",
     "output_type": "stream",
     "text": [
      "4\n"
     ]
    }
   ],
   "source": [
    "num = 4512\n",
    "count = 0\n",
    "while(num>0):\n",
    "    num = num//10\n",
    "    count+=1\n",
    "print(count)"
   ]
  },
  {
   "cell_type": "code",
   "execution_count": 18,
   "id": "6da80859-04ac-4459-aa18-b567a124c1f6",
   "metadata": {},
   "outputs": [
    {
     "name": "stdout",
     "output_type": "stream",
     "text": [
      "15 3\n",
      "1 5\n",
      "0 1\n"
     ]
    }
   ],
   "source": [
    "num = 153\n",
    "\n",
    "while(num>0):\n",
    "    rem = num%10\n",
    "    num = num//10\n",
    "    print(num, rem)"
   ]
  },
  {
   "cell_type": "code",
   "execution_count": 34,
   "id": "73618365-910d-4f85-ae40-716c96b76fc8",
   "metadata": {},
   "outputs": [
    {
     "name": "stdout",
     "output_type": "stream",
     "text": [
      "15 3 27 total 27\n",
      "1 5 125 total 152\n",
      "0 1 1 total 153\n",
      "armstrong number\n"
     ]
    }
   ],
   "source": [
    "num = 153\n",
    "temp =num\n",
    "total = 0\n",
    "\n",
    "while(num>0):\n",
    "    rem = num%10\n",
    "    total = total + rem**3\n",
    "    num = num//10\n",
    "    print(num, rem,rem**3, \"total\",total)\n",
    "\n",
    "if(temp==total):\n",
    "    print(\"armstrong number\")\n",
    "else:\n",
    "    print(\"not Armstrong number\")"
   ]
  },
  {
   "cell_type": "code",
   "execution_count": 38,
   "id": "bb5fc72e-d78e-4a11-b29f-e309111fb880",
   "metadata": {},
   "outputs": [
    {
     "name": "stdout",
     "output_type": "stream",
     "text": [
      "armstrong number\n"
     ]
    }
   ],
   "source": [
    "num = 153\n",
    "temp =num\n",
    "total = 0\n",
    "\n",
    "while(num>0):\n",
    "    rem = num%10\n",
    "    total = total + rem**3\n",
    "    num = num//10\n",
    "\n",
    "if(temp==total):\n",
    "    print(\"armstrong number\")\n",
    "else:\n",
    "    print(\"not Armstrong number\")"
   ]
  },
  {
   "cell_type": "code",
   "execution_count": 42,
   "id": "f38d782a-fdb5-4192-b59d-d5fcac4047a7",
   "metadata": {},
   "outputs": [
    {
     "name": "stdout",
     "output_type": "stream",
     "text": [
      "0\n",
      "1\n",
      "2\n",
      "3\n"
     ]
    }
   ],
   "source": [
    "i = 0\n",
    "while(i<4):\n",
    "    print(i)\n",
    "    i+=1"
   ]
  },
  {
   "cell_type": "code",
   "execution_count": 46,
   "id": "331142cf-3395-47ab-aa10-51639dde913f",
   "metadata": {},
   "outputs": [
    {
     "name": "stdout",
     "output_type": "stream",
     "text": [
      "0\n",
      "1\n",
      "2\n"
     ]
    }
   ],
   "source": [
    "i = 0\n",
    "while(i<3):\n",
    "    print(i)\n",
    "    i+=1"
   ]
  },
  {
   "cell_type": "code",
   "execution_count": 50,
   "id": "3db4e61c-12d1-42d8-b44b-8f4bc699ca3a",
   "metadata": {},
   "outputs": [
    {
     "name": "stdout",
     "output_type": "stream",
     "text": [
      "0 h\n",
      "1 e\n",
      "2 y\n"
     ]
    }
   ],
   "source": [
    "i = 0\n",
    "s =\"hey\"\n",
    "while(i<3):\n",
    "    print(i,s[i])\n",
    "    i+=1"
   ]
  },
  {
   "cell_type": "code",
   "execution_count": 54,
   "id": "b6792e21-5792-4900-bb28-dc6ea6deef8a",
   "metadata": {},
   "outputs": [
    {
     "name": "stdout",
     "output_type": "stream",
     "text": [
      "h\n",
      "e\n",
      "y\n"
     ]
    }
   ],
   "source": [
    "for char in \"hey\":\n",
    "    print(char)"
   ]
  },
  {
   "cell_type": "code",
   "execution_count": 1,
   "id": "4bf91f79-9f2f-45ee-bb54-965bd05c8b1c",
   "metadata": {},
   "outputs": [
    {
     "data": {
      "text/plain": [
       "4"
      ]
     },
     "execution_count": 1,
     "metadata": {},
     "output_type": "execute_result"
    }
   ],
   "source": [
    "s = \"heyu\"\n",
    "len(s)"
   ]
  },
  {
   "cell_type": "code",
   "execution_count": 12,
   "id": "12e5d056-7976-4a99-83c3-fe66fc13af62",
   "metadata": {},
   "outputs": [
    {
     "name": "stdout",
     "output_type": "stream",
     "text": [
      "h\n",
      "e\n",
      "y\n",
      "u\n",
      "a\n"
     ]
    }
   ],
   "source": [
    "s = \"heyua\"\n",
    "index = 0\n",
    "while(index < len(s)):\n",
    "    print(s[index])\n",
    "    index+=1"
   ]
  },
  {
   "cell_type": "code",
   "execution_count": 16,
   "id": "0cd3e1de-9599-4eb2-8955-a29440b0f261",
   "metadata": {},
   "outputs": [
    {
     "name": "stdout",
     "output_type": "stream",
     "text": [
      "h a\n",
      "e a\n",
      "y a\n",
      "u a\n",
      "a a\n"
     ]
    }
   ],
   "source": [
    "s = \"heyua\"\n",
    "index = 0\n",
    "last = len(s)-1\n",
    "while(index < len(s)):\n",
    "    print(s[index], s[last])\n",
    "    index+=1"
   ]
  },
  {
   "cell_type": "code",
   "execution_count": 20,
   "id": "f2d753c5-8328-4fff-9752-fec7986a0d4b",
   "metadata": {},
   "outputs": [
    {
     "name": "stdout",
     "output_type": "stream",
     "text": [
      "h a\n",
      "e u\n",
      "y y\n",
      "u e\n",
      "a h\n"
     ]
    }
   ],
   "source": [
    "s = \"heyua\"\n",
    "index = 0\n",
    "last = len(s)-1\n",
    "while(index < len(s)):\n",
    "    print(s[index], s[last])\n",
    "    index+=1\n",
    "    last-=1"
   ]
  },
  {
   "cell_type": "code",
   "execution_count": 24,
   "id": "135b7c4d-cbba-45af-885b-9e1b6b33ad39",
   "metadata": {},
   "outputs": [
    {
     "name": "stdout",
     "output_type": "stream",
     "text": [
      "h a\n",
      "e u\n"
     ]
    }
   ],
   "source": [
    "s = \"heyua\"\n",
    "index = 0\n",
    "last = len(s)-1\n",
    "while(index < last):\n",
    "    print(s[index], s[last])\n",
    "    index+=1\n",
    "    last-=1"
   ]
  },
  {
   "cell_type": "code",
   "execution_count": 28,
   "id": "d57dce28-fc2e-4de7-aaf3-2a1d3b49c73a",
   "metadata": {},
   "outputs": [
    {
     "name": "stdout",
     "output_type": "stream",
     "text": [
      "h a\n",
      "e u\n",
      "y z\n"
     ]
    }
   ],
   "source": [
    "s = \"heyzua\"\n",
    "index = 0\n",
    "last = len(s)-1\n",
    "while(index < last):\n",
    "    print(s[index], s[last])\n",
    "    index+=1\n",
    "    last-=1"
   ]
  },
  {
   "cell_type": "code",
   "execution_count": 32,
   "id": "6a2b0600-3bf3-4fb4-8cb2-a4dc73c6256a",
   "metadata": {},
   "outputs": [
    {
     "name": "stdout",
     "output_type": "stream",
     "text": [
      "not palindrom\n"
     ]
    }
   ],
   "source": [
    "s = \"heyzua\"\n",
    "index = 0\n",
    "last = len(s)-1\n",
    "while(index < last):\n",
    "    if(s[index]!=s[last]):\n",
    "        print(\"not palindrom\")\n",
    "        break\n",
    "    index+=1\n",
    "    last-=1\n",
    "else:\n",
    "    print(\"palindrome\")"
   ]
  },
  {
   "cell_type": "code",
   "execution_count": 36,
   "id": "8ad39e81-9faf-45c1-9394-0127d42ed46d",
   "metadata": {},
   "outputs": [
    {
     "name": "stdout",
     "output_type": "stream",
     "text": [
      "palindrome\n"
     ]
    }
   ],
   "source": [
    "s = \"saras\"\n",
    "index = 0\n",
    "last = len(s)-1\n",
    "while(index < last):\n",
    "    if(s[index]!=s[last]):\n",
    "        print(\"not palindrom\")\n",
    "        break\n",
    "    index+=1\n",
    "    last-=1\n",
    "else:\n",
    "    print(\"palindrome\")"
   ]
  },
  {
   "cell_type": "code",
   "execution_count": 38,
   "id": "ecdd125e-2725-48b7-9dbb-144b1aa9e3cb",
   "metadata": {},
   "outputs": [
    {
     "name": "stdout",
     "output_type": "stream",
     "text": [
      "palindrome\n"
     ]
    }
   ],
   "source": [
    "s = \"saras\"\n",
    "index = 0\n",
    "z = 0\n",
    "last = len(s)-1\n",
    "while(index < last):\n",
    "    if(s[index]!=s[last]):\n",
    "        z+=1\n",
    "        break\n",
    "    index+=1\n",
    "    last-=1\n",
    "if(z==1):\n",
    "    print(\"not palindrome\")\n",
    "else:\n",
    "    print(\"palindrome\")"
   ]
  }
 ],
 "metadata": {
  "kernelspec": {
   "display_name": "Python [conda env:base] *",
   "language": "python",
   "name": "conda-base-py"
  },
  "language_info": {
   "codemirror_mode": {
    "name": "ipython",
    "version": 3
   },
   "file_extension": ".py",
   "mimetype": "text/x-python",
   "name": "python",
   "nbconvert_exporter": "python",
   "pygments_lexer": "ipython3",
   "version": "3.12.7"
  }
 },
 "nbformat": 4,
 "nbformat_minor": 5
}
